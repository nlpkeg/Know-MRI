{
 "cells": [
  {
   "cell_type": "code",
   "execution_count": 1,
   "id": "684115e6-e510-45de-ac97-5f87cb3b1f85",
   "metadata": {},
   "outputs": [
    {
     "name": "stdout",
     "output_type": "stream",
     "text": [
      "module 'kv_template' has no attribute 'dataset_info'\n",
      "Loaded dataset with 1209 elements\n",
      "Apply mapping = False\n",
      "loading model: /root/autodl-fs/gpt-j-6b\n"
     ]
    },
    {
     "name": "stderr",
     "output_type": "stream",
     "text": [
      "INFO:accelerate.utils.modeling:We will use 90% of the memory on device 0 for storing the model, and 10% for the buffer to avoid OOM. You can set `max_memory` in to a higher value to use more memory (at your own risk).\n"
     ]
    },
    {
     "name": "stdout",
     "output_type": "stream",
     "text": [
      "/root/autodl-fs/gpt-j-6b model loaded\n",
      "{'output': 'Antarctica', 'origin_data': [{'Layer name': 'Layer_0', 'predicted_token': ' heated'}, {'Layer name': 'Layer_1', 'predicted_token': ' utter'}, {'Layer name': 'Layer_2', 'predicted_token': ' Europe'}, {'Layer name': 'Layer_3', 'predicted_token': ' Europe'}, {'Layer name': 'Layer_4', 'predicted_token': ' Europe'}, {'Layer name': 'Layer_5', 'predicted_token': ' Europe'}, {'Layer name': 'Layer_6', 'predicted_token': ' Europe'}, {'Layer name': 'Layer_7', 'predicted_token': ' Europe'}, {'Layer name': 'Layer_8', 'predicted_token': ' Europe'}, {'Layer name': 'Layer_9', 'predicted_token': ' Europe'}, {'Layer name': 'Layer_10', 'predicted_token': ' Europe'}, {'Layer name': 'Layer_11', 'predicted_token': ' Europe'}, {'Layer name': 'Layer_12', 'predicted_token': ' Africa'}, {'Layer name': 'Layer_13', 'predicted_token': ' Africa'}, {'Layer name': 'Layer_14', 'predicted_token': ' Africa'}, {'Layer name': 'Layer_15', 'predicted_token': ' Africa'}, {'Layer name': 'Layer_16', 'predicted_token': ' Africa'}, {'Layer name': 'Layer_17', 'predicted_token': ' Africa'}, {'Layer name': 'Layer_18', 'predicted_token': ' Africa'}, {'Layer name': 'Layer_19', 'predicted_token': ' Africa'}, {'Layer name': 'Layer_20', 'predicted_token': ' Africa'}, {'Layer name': 'Layer_21', 'predicted_token': ' Africa'}, {'Layer name': 'Layer_22', 'predicted_token': ' Africa'}, {'Layer name': 'Layer_23', 'predicted_token': ' Africa'}, {'Layer name': 'Layer_24', 'predicted_token': ' Africa'}, {'Layer name': 'Layer_25', 'predicted_token': ' Africa'}, {'Layer name': 'Layer_26', 'predicted_token': ' Africa'}], 'table': [{'table_name': 'Predicted Next Tokens by Layer Source', 'table_des': 'This table shows the predicted next tokens for each layer source.', 'table_list': [{'Layer name': 'Layer_0', 'Next Token Predicted by Model': ' heated'}, {'Layer name': 'Layer_1', 'Next Token Predicted by Model': ' utter'}, {'Layer name': 'Layer_2', 'Next Token Predicted by Model': ' Europe'}, {'Layer name': 'Layer_3', 'Next Token Predicted by Model': ' Europe'}, {'Layer name': 'Layer_4', 'Next Token Predicted by Model': ' Europe'}, {'Layer name': 'Layer_5', 'Next Token Predicted by Model': ' Europe'}, {'Layer name': 'Layer_6', 'Next Token Predicted by Model': ' Europe'}, {'Layer name': 'Layer_7', 'Next Token Predicted by Model': ' Europe'}, {'Layer name': 'Layer_8', 'Next Token Predicted by Model': ' Europe'}, {'Layer name': 'Layer_9', 'Next Token Predicted by Model': ' Europe'}, {'Layer name': 'Layer_10', 'Next Token Predicted by Model': ' Europe'}, {'Layer name': 'Layer_11', 'Next Token Predicted by Model': ' Europe'}, {'Layer name': 'Layer_12', 'Next Token Predicted by Model': ' Africa'}, {'Layer name': 'Layer_13', 'Next Token Predicted by Model': ' Africa'}, {'Layer name': 'Layer_14', 'Next Token Predicted by Model': ' Africa'}, {'Layer name': 'Layer_15', 'Next Token Predicted by Model': ' Africa'}, {'Layer name': 'Layer_16', 'Next Token Predicted by Model': ' Africa'}, {'Layer name': 'Layer_17', 'Next Token Predicted by Model': ' Africa'}, {'Layer name': 'Layer_18', 'Next Token Predicted by Model': ' Africa'}, {'Layer name': 'Layer_19', 'Next Token Predicted by Model': ' Africa'}, {'Layer name': 'Layer_20', 'Next Token Predicted by Model': ' Africa'}, {'Layer name': 'Layer_21', 'Next Token Predicted by Model': ' Africa'}, {'Layer name': 'Layer_22', 'Next Token Predicted by Model': ' Africa'}, {'Layer name': 'Layer_23', 'Next Token Predicted by Model': ' Africa'}, {'Layer name': 'Layer_24', 'Next Token Predicted by Model': ' Africa'}, {'Layer name': 'Layer_25', 'Next Token Predicted by Model': ' Africa'}, {'Layer name': 'Layer_26', 'Next Token Predicted by Model': ' Africa'}], 'table_res': 'LLMs can be used to explain their own hidden layer representations through a framework called Patchscope. Predicted Next Tokens by Layer:\\nLayer 22:  Africa\\nLayer 23:  Africa\\nLayer 24:  Africa\\nLayer 25:  Africa\\nLayer 26:  Africa'}], 'result_des': ''}\n"
     ]
    }
   ],
   "source": [
    "from diagnose import diagnose\n",
    "from dataset_process import knowns, ZsRE, counterfact, pararel, PEP3k, TwentyQ\n",
    "from models import llama, gptj, gpt2, qwen, internlm, baichuan\n",
    "from methods import patchscopes\n",
    "import methods\n",
    "dataset = knowns.KnownsDataset(loc=knowns.default_loc)\n",
    "sample = knowns.get_processed_kvs(dataset[0], patchscopes.requires_input_keys)\n",
    "result = diagnose.diagnosing(sample=sample, model_name_or_path=gptj, method=patchscopes.name)\n",
    "\n",
    "print(result)\n"
   ]
  }
 ],
 "metadata": {
  "kernelspec": {
   "display_name": "Python 3 (ipykernel)",
   "language": "python",
   "name": "python3"
  },
  "language_info": {
   "codemirror_mode": {
    "name": "ipython",
    "version": 3
   },
   "file_extension": ".py",
   "mimetype": "text/x-python",
   "name": "python",
   "nbconvert_exporter": "python",
   "pygments_lexer": "ipython3",
   "version": "3.10.8"
  }
 },
 "nbformat": 4,
 "nbformat_minor": 5
}
