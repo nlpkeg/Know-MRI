{
 "cells": [
  {
   "cell_type": "code",
   "execution_count": 1,
   "id": "44dabbc4-83ab-4165-b16d-1ebbf2b8eb5c",
   "metadata": {},
   "outputs": [
    {
     "name": "stdout",
     "output_type": "stream",
     "text": [
      "module 'kv_template' has no attribute 'dataset_info'\n",
      "Loaded dataset with 1209 elements\n",
      "loading model: /root/autodl-fs/gpt-j-6b\n"
     ]
    },
    {
     "name": "stderr",
     "output_type": "stream",
     "text": [
      "INFO:accelerate.utils.modeling:We will use 90% of the memory on device 0 for storing the model, and 10% for the buffer to avoid OOM. You can set `max_memory` in to a higher value to use more memory (at your own risk).\n",
      "Xformers is not installed correctly. If you want to use memory_efficient_attention to accelerate training use the following command to install Xformers\n",
      "pip install xformers.\n",
      "Setting `pad_token_id` to `eos_token_id`:50256 for open-end generation.\n"
     ]
    },
    {
     "name": "stdout",
     "output_type": "stream",
     "text": [
      "/root/autodl-fs/gpt-j-6b model loaded\n",
      "{'origin_data': [\"Assess the correctness of the statement: 'Vinson Massif is located in the continent of Antarctica' Answer True if correct, False otherwise. Then, provide the most critical 4 words or phrases that influence your assessment.\"], 'image': '', 'table': [{'table_name': 'Self-explanation of LLM', 'table_list': [{'Input prompt': \"Assess the correctness of the statement: 'Vinson Massif is located in the continent of Antarctica' Answer True if correct, False otherwise. Then, provide the most critical 4 words or phrases that influence your assessment.\", 'answer': \"\\n\\nThe Vinson Massif (also known as Mount Erebus) is a large volcano on Ross Island in East Antarctica and one of the world's largest active volcanoes. It has been dormant for at least 1 million years but may have erupted during the last ice age about 10,000 to 20,000 years ago.[1] The mountain was named after Admiral Robert L. Vinson who led an expedition there in 1841–1842. He discovered it while searching for Sir John Franklin's lost ships HMS Terror\"}], 'tabel_des': \"the most critical top_k words or phrases that influences LLM's assessment\", 'tabel_res': ''}], 'result_des': ''}\n"
     ]
    }
   ],
   "source": [
    "from diagnose import diagnose\n",
    "from dataset_process import knowns, ZsRE, counterfact, pararel, PEP3k, TwentyQ\n",
    "from models import llama, gptj, gpt2, qwen, t5, chatglm2, internlm, baichuan\n",
    "from methods import Selfexplanations\n",
    "\n",
    "dataset = knowns.KnownsDataset(loc=knowns.default_loc)\n",
    "sample = knowns.get_processed_kvs(dataset[0], Selfexplanations.requires_input_keys)\n",
    "\n",
    "result = diagnose.diagnosing(sample=sample, model_name_or_path=gptj, method=Selfexplanations.name)\n",
    "print(result)"
   ]
  }
 ],
 "metadata": {
  "kernelspec": {
   "display_name": "Python 3 (ipykernel)",
   "language": "python",
   "name": "python3"
  },
  "language_info": {
   "codemirror_mode": {
    "name": "ipython",
    "version": 3
   },
   "file_extension": ".py",
   "mimetype": "text/x-python",
   "name": "python",
   "nbconvert_exporter": "python",
   "pygments_lexer": "ipython3",
   "version": "3.10.8"
  }
 },
 "nbformat": 4,
 "nbformat_minor": 5
}
