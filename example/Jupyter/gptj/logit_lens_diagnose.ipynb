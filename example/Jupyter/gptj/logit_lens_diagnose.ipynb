{
 "cells": [
  {
   "cell_type": "code",
   "execution_count": 1,
   "id": "7308f250-674d-4414-8cf3-22eb1934bcd3",
   "metadata": {},
   "outputs": [
    {
     "name": "stdout",
     "output_type": "stream",
     "text": [
      "module 'kv_template' has no attribute 'dataset_info'\n",
      "Loaded dataset with 1209 elements\n",
      "loading model: /root/autodl-fs/gpt-j-6b\n"
     ]
    },
    {
     "name": "stderr",
     "output_type": "stream",
     "text": [
      "INFO:accelerate.utils.modeling:We will use 90% of the memory on device 0 for storing the model, and 10% for the buffer to avoid OOM. You can set `max_memory` in to a higher value to use more memory (at your own risk).\n"
     ]
    },
    {
     "name": "stdout",
     "output_type": "stream",
     "text": [
      "/root/autodl-fs/gpt-j-6b model loaded\n",
      "{'output': '', 'image': [], 'table': [{'table_name': 'Hidden states top token', 'table_list': [{'Layer name': 'Layer_0', 'Top tokens': \"['ACP', 'ENG', '447']\"}, {'Layer name': 'Layer_1', 'Top tokens': \"[' behalf', ' invention', 'assis']\"}, {'Layer name': 'Layer_2', 'Top tokens': \"[' also', ' behalf', ' top']\"}, {'Layer name': 'Layer_3', 'Top tokens': \"[' behalf', ' top', ' television']\"}, {'Layer name': 'Layer_4', 'Top tokens': \"[' television', ' behalf', ' record']\"}, {'Layer name': 'Layer_5', 'Top tokens': \"[' July', ' television', ' June']\"}, {'Layer name': 'Layer_6', 'Top tokens': \"[' July', ' September', ' November']\"}, {'Layer name': 'Layer_7', 'Top tokens': \"[' November', ' July', ' September']\"}, {'Layer name': 'Layer_8', 'Top tokens': \"[' television', ' November', ' July']\"}, {'Layer name': 'Layer_9', 'Top tokens': \"[' July', ' November', ' September']\"}, {'Layer name': 'Layer_10', 'Top tokens': \"[' July', ' November', ' September']\"}, {'Layer name': 'Layer_11', 'Top tokens': \"[' television', ' July', ' November']\"}, {'Layer name': 'Layer_12', 'Top tokens': \"[' television', ' July', ' January']\"}, {'Layer name': 'Layer_13', 'Top tokens': \"[' television', ' TV', ' September']\"}, {'Layer name': 'Layer_14', 'Top tokens': \"[' television', ' TV', ' Sunday']\"}, {'Layer name': 'Layer_15', 'Top tokens': \"[' TV', ' television', ' Sunday']\"}, {'Layer name': 'Layer_16', 'Top tokens': \"[' TV', ' television', ' Sunday']\"}, {'Layer name': 'Layer_17', 'Top tokens': \"[' TV', ' television', ' HBO']\"}, {'Layer name': 'Layer_18', 'Top tokens': \"[' TV', ' television', ' HBO']\"}, {'Layer name': 'Layer_19', 'Top tokens': \"[' TV', ' Thursday', ' September']\"}, {'Layer name': 'Layer_20', 'Top tokens': \"[' TV', ' television', ' HBO']\"}, {'Layer name': 'Layer_21', 'Top tokens': \"[' TV', ' television', ' CBS']\"}, {'Layer name': 'Layer_22', 'Top tokens': \"[' CBS', ' TV', ' television']\"}, {'Layer name': 'Layer_23', 'Top tokens': \"[' CBS', ' TV', ' Thursday']\"}, {'Layer name': 'Layer_24', 'Top tokens': \"[' CBS', ' Thursday', ' TV']\"}, {'Layer name': 'Layer_25', 'Top tokens': \"[' CBS', ' September', ' Thursday']\"}, {'Layer name': 'Layer_26', 'Top tokens': \"[' the', ' September', ' T']\"}, {'Layer name': 'Layer_27', 'Top tokens': \"[' the', ' T', '\\\\n']\"}, {'Layer name': 'Layer_28', 'Top tokens': \"[' CBS', ' Thursday', ' September']\"}], 'table_des': 'We use the lm head to decode the semantic information in the hidden states layer across the layer.', 'table_res': 'In the forward propagation of the model: \\nThe final token predicted by the model is  CBS.'}], 'result_des': '', 'origin_data': {'top_tokens': [['ACP', 'ENG', '447'], [' behalf', ' invention', 'assis'], [' also', ' behalf', ' top'], [' behalf', ' top', ' television'], [' television', ' behalf', ' record'], [' July', ' television', ' June'], [' July', ' September', ' November'], [' November', ' July', ' September'], [' television', ' November', ' July'], [' July', ' November', ' September'], [' July', ' November', ' September'], [' television', ' July', ' November'], [' television', ' July', ' January'], [' television', ' TV', ' September'], [' television', ' TV', ' Sunday'], [' TV', ' television', ' Sunday'], [' TV', ' television', ' Sunday'], [' TV', ' television', ' HBO'], [' TV', ' television', ' HBO'], [' TV', ' Thursday', ' September'], [' TV', ' television', ' HBO'], [' TV', ' television', ' CBS'], [' CBS', ' TV', ' television'], [' CBS', ' TV', ' Thursday'], [' CBS', ' Thursday', ' TV'], [' CBS', ' September', ' Thursday'], [' the', ' September', ' T'], [' the', ' T', '\\n'], [' CBS', ' Thursday', ' September']]}}\n"
     ]
    }
   ],
   "source": [
    "from diagnose import diagnose\n",
    "from dataset_process import knowns, ZsRE, counterfact\n",
    "from models import llama, gptj, gpt2, qwen, bert, t5, chatglm2, internlm, baichuan\n",
    "from methods import logit_lens\n",
    "\n",
    "dataset = knowns.KnownsDataset(loc=knowns.default_loc)\n",
    "sample = knowns.get_processed_kvs(dataset[3], logit_lens.requires_input_keys)\n",
    "# dataset = ZsRE.ZsREDataset(loc=ZsRE.default_loc)\n",
    "# sample = ZsRE.get_processed_kvs(dataset[0], kn.requires_input_keys)\n",
    "# dataset = counterfact.CounterfactDataset(loc=counterfact.default_loc)\n",
    "# sample = counterfact.get_processed_kvs(dataset[0], logit_lens.requires_input_keys)\n",
    "result = diagnose.diagnosing(sample=sample, model_name_or_path=gptj, method=logit_lens.name)\n",
    "\n",
    "print(result)\n"
   ]
  }
 ],
 "metadata": {
  "kernelspec": {
   "display_name": "Python 3 (ipykernel)",
   "language": "python",
   "name": "python3"
  },
  "language_info": {
   "codemirror_mode": {
    "name": "ipython",
    "version": 3
   },
   "file_extension": ".py",
   "mimetype": "text/x-python",
   "name": "python",
   "nbconvert_exporter": "python",
   "pygments_lexer": "ipython3",
   "version": "3.10.8"
  }
 },
 "nbformat": 4,
 "nbformat_minor": 5
}
