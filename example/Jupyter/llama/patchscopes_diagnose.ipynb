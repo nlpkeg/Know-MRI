{
 "cells": [
  {
   "cell_type": "code",
   "execution_count": 1,
   "id": "684115e6-e510-45de-ac97-5f87cb3b1f85",
   "metadata": {},
   "outputs": [
    {
     "name": "stdout",
     "output_type": "stream",
     "text": [
      "module 'kv_template' has no attribute 'dataset_info'\n",
      "Loaded dataset with 1209 elements\n",
      "Apply mapping = False\n",
      "loading model: /root/autodl-fs/llama-2-7b-hf\n"
     ]
    },
    {
     "name": "stderr",
     "output_type": "stream",
     "text": [
      "INFO:accelerate.utils.modeling:We will use 90% of the memory on device 0 for storing the model, and 10% for the buffer to avoid OOM. You can set `max_memory` in to a higher value to use more memory (at your own risk).\n"
     ]
    },
    {
     "data": {
      "application/json": {
       "ascii": false,
       "bar_format": null,
       "colour": null,
       "elapsed": 0.00468754768371582,
       "initial": 0,
       "n": 0,
       "ncols": null,
       "nrows": null,
       "postfix": null,
       "prefix": "Loading checkpoint shards",
       "rate": null,
       "total": 2,
       "unit": "it",
       "unit_divisor": 1000,
       "unit_scale": false
      },
      "application/vnd.jupyter.widget-view+json": {
       "model_id": "18fd99f3e28c47819e48c5057f172e1e",
       "version_major": 2,
       "version_minor": 0
      },
      "text/plain": [
       "Loading checkpoint shards:   0%|          | 0/2 [00:00<?, ?it/s]"
      ]
     },
     "metadata": {},
     "output_type": "display_data"
    },
    {
     "name": "stdout",
     "output_type": "stream",
     "text": [
      "/root/autodl-fs/llama-2-7b-hf model loaded\n",
      "{'output': 'Antarctica', 'origin_data': [{'Layer name': 'Layer_0', 'predicted_token': 'пута'}, {'Layer name': 'Layer_1', 'predicted_token': 'ﬁ'}, {'Layer name': 'Layer_2', 'predicted_token': 'ﬁ'}, {'Layer name': 'Layer_3', 'predicted_token': 'ﬁ'}, {'Layer name': 'Layer_4', 'predicted_token': '�'}, {'Layer name': 'Layer_5', 'predicted_token': '�'}, {'Layer name': 'Layer_6', 'predicted_token': '�'}, {'Layer name': 'Layer_7', 'predicted_token': '�'}, {'Layer name': 'Layer_8', 'predicted_token': '�'}, {'Layer name': 'Layer_9', 'predicted_token': '�'}, {'Layer name': 'Layer_10', 'predicted_token': 'Bedeut'}, {'Layer name': 'Layer_11', 'predicted_token': 'Bedeut'}, {'Layer name': 'Layer_12', 'predicted_token': 'Flora'}, {'Layer name': 'Layer_13', 'predicted_token': '�'}, {'Layer name': 'Layer_14', 'predicted_token': 'dec'}, {'Layer name': 'Layer_15', 'predicted_token': 'hat'}, {'Layer name': 'Layer_16', 'predicted_token': 'North'}, {'Layer name': 'Layer_17', 'predicted_token': 'Asia'}, {'Layer name': 'Layer_18', 'predicted_token': 'Asia'}, {'Layer name': 'Layer_19', 'predicted_token': 'Asia'}, {'Layer name': 'Layer_20', 'predicted_token': 'Asia'}, {'Layer name': 'Layer_21', 'predicted_token': 'Ant'}, {'Layer name': 'Layer_22', 'predicted_token': 'Ant'}, {'Layer name': 'Layer_23', 'predicted_token': 'Ant'}, {'Layer name': 'Layer_24', 'predicted_token': 'Ant'}, {'Layer name': 'Layer_25', 'predicted_token': 'Ant'}, {'Layer name': 'Layer_26', 'predicted_token': 'Ant'}, {'Layer name': 'Layer_27', 'predicted_token': 'Ant'}, {'Layer name': 'Layer_28', 'predicted_token': 'Ant'}, {'Layer name': 'Layer_29', 'predicted_token': 'Ant'}, {'Layer name': 'Layer_30', 'predicted_token': 'Ant'}], 'table': [{'table_name': 'Predicted Next Tokens by Layer Source', 'table_des': 'This table shows the predicted next tokens for each layer source.', 'table_list': [{'Layer name': 'Layer_0', 'Next Token Predicted by Model': 'пута'}, {'Layer name': 'Layer_1', 'Next Token Predicted by Model': 'ﬁ'}, {'Layer name': 'Layer_2', 'Next Token Predicted by Model': 'ﬁ'}, {'Layer name': 'Layer_3', 'Next Token Predicted by Model': 'ﬁ'}, {'Layer name': 'Layer_4', 'Next Token Predicted by Model': '�'}, {'Layer name': 'Layer_5', 'Next Token Predicted by Model': '�'}, {'Layer name': 'Layer_6', 'Next Token Predicted by Model': '�'}, {'Layer name': 'Layer_7', 'Next Token Predicted by Model': '�'}, {'Layer name': 'Layer_8', 'Next Token Predicted by Model': '�'}, {'Layer name': 'Layer_9', 'Next Token Predicted by Model': '�'}, {'Layer name': 'Layer_10', 'Next Token Predicted by Model': 'Bedeut'}, {'Layer name': 'Layer_11', 'Next Token Predicted by Model': 'Bedeut'}, {'Layer name': 'Layer_12', 'Next Token Predicted by Model': 'Flora'}, {'Layer name': 'Layer_13', 'Next Token Predicted by Model': '�'}, {'Layer name': 'Layer_14', 'Next Token Predicted by Model': 'dec'}, {'Layer name': 'Layer_15', 'Next Token Predicted by Model': 'hat'}, {'Layer name': 'Layer_16', 'Next Token Predicted by Model': 'North'}, {'Layer name': 'Layer_17', 'Next Token Predicted by Model': 'Asia'}, {'Layer name': 'Layer_18', 'Next Token Predicted by Model': 'Asia'}, {'Layer name': 'Layer_19', 'Next Token Predicted by Model': 'Asia'}, {'Layer name': 'Layer_20', 'Next Token Predicted by Model': 'Asia'}, {'Layer name': 'Layer_21', 'Next Token Predicted by Model': 'Ant'}, {'Layer name': 'Layer_22', 'Next Token Predicted by Model': 'Ant'}, {'Layer name': 'Layer_23', 'Next Token Predicted by Model': 'Ant'}, {'Layer name': 'Layer_24', 'Next Token Predicted by Model': 'Ant'}, {'Layer name': 'Layer_25', 'Next Token Predicted by Model': 'Ant'}, {'Layer name': 'Layer_26', 'Next Token Predicted by Model': 'Ant'}, {'Layer name': 'Layer_27', 'Next Token Predicted by Model': 'Ant'}, {'Layer name': 'Layer_28', 'Next Token Predicted by Model': 'Ant'}, {'Layer name': 'Layer_29', 'Next Token Predicted by Model': 'Ant'}, {'Layer name': 'Layer_30', 'Next Token Predicted by Model': 'Ant'}], 'table_res': 'LLMs can be used to explain their own hidden layer representations through a framework called Patchscope. Predicted Next Tokens by Layer:\\nLayer 25: Ant\\nLayer 26: Ant\\nLayer 27: Ant\\nLayer 28: Ant\\nLayer 29: Ant\\nLayer 30: Ant'}], 'result_des': ''}\n"
     ]
    }
   ],
   "source": [
    "from diagnose import diagnose\n",
    "from dataset_process import knowns, ZsRE, counterfact, pararel, PEP3k, TwentyQ\n",
    "from models import llama, gptj, gpt2, qwen, internlm, baichuan\n",
    "from methods import patchscopes\n",
    "import methods\n",
    "dataset = knowns.KnownsDataset(loc=knowns.default_loc)\n",
    "sample = knowns.get_processed_kvs(dataset[0], patchscopes.requires_input_keys)\n",
    "result = diagnose.diagnosing(sample=sample, model_name_or_path=llama, method=patchscopes.name)\n",
    "\n",
    "print(result)\n"
   ]
  }
 ],
 "metadata": {
  "kernelspec": {
   "display_name": "Python 3 (ipykernel)",
   "language": "python",
   "name": "python3"
  },
  "language_info": {
   "codemirror_mode": {
    "name": "ipython",
    "version": 3
   },
   "file_extension": ".py",
   "mimetype": "text/x-python",
   "name": "python",
   "nbconvert_exporter": "python",
   "pygments_lexer": "ipython3",
   "version": "3.10.8"
  }
 },
 "nbformat": 4,
 "nbformat_minor": 5
}
