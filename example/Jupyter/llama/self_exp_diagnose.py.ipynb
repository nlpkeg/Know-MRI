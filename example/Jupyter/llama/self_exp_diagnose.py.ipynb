{
 "cells": [
  {
   "cell_type": "code",
   "execution_count": 1,
   "id": "44dabbc4-83ab-4165-b16d-1ebbf2b8eb5c",
   "metadata": {},
   "outputs": [
    {
     "name": "stdout",
     "output_type": "stream",
     "text": [
      "module 'kv_template' has no attribute 'dataset_info'\n",
      "Loaded dataset with 1209 elements\n",
      "loading model: /root/autodl-fs/llama-2-7b-hf\n"
     ]
    },
    {
     "name": "stderr",
     "output_type": "stream",
     "text": [
      "INFO:accelerate.utils.modeling:We will use 90% of the memory on device 0 for storing the model, and 10% for the buffer to avoid OOM. You can set `max_memory` in to a higher value to use more memory (at your own risk).\n"
     ]
    },
    {
     "data": {
      "application/json": {
       "ascii": false,
       "bar_format": null,
       "colour": null,
       "elapsed": 0.004676103591918945,
       "initial": 0,
       "n": 0,
       "ncols": null,
       "nrows": null,
       "postfix": null,
       "prefix": "Loading checkpoint shards",
       "rate": null,
       "total": 2,
       "unit": "it",
       "unit_divisor": 1000,
       "unit_scale": false
      },
      "application/vnd.jupyter.widget-view+json": {
       "model_id": "cb9607cc890f459696dec9c6f65a5a20",
       "version_major": 2,
       "version_minor": 0
      },
      "text/plain": [
       "Loading checkpoint shards:   0%|          | 0/2 [00:00<?, ?it/s]"
      ]
     },
     "metadata": {},
     "output_type": "display_data"
    },
    {
     "name": "stderr",
     "output_type": "stream",
     "text": [
      "Xformers is not installed correctly. If you want to use memory_efficient_attention to accelerate training use the following command to install Xformers\n",
      "pip install xformers.\n"
     ]
    },
    {
     "name": "stdout",
     "output_type": "stream",
     "text": [
      "/root/autodl-fs/llama-2-7b-hf model loaded\n",
      "{'origin_data': [\"Assess the correctness of the statement: 'Vinson Massif is located in the continent of Antarctica' Answer True if correct, False otherwise. Then, provide the most critical 4 words or phrases that influence your assessment.\"], 'image': '', 'table': [{'table_name': 'Self-explanation of LLM', 'table_list': [{'Input prompt': \"Assess the correctness of the statement: 'Vinson Massif is located in the continent of Antarctica' Answer True if correct, False otherwise. Then, provide the most critical 4 words or phrases that influence your assessment.\", 'answer': '\\nThe Vinson Massif is a mountain range found on the continent of Antarctica and it has an elevation of about 16053 feet above sea level. The massif was named after U.S Senator Strom Thurmond who had been instrumental in securing funding for scientific research in Antarctica.\\nThe Vinson Massif is one of the highest mountains in Antarctica with its summit being higher than Mount Everest by over two'}], 'tabel_des': \"the most critical top_k words or phrases that influences LLM's assessment\", 'tabel_res': ''}], 'result_des': ''}\n"
     ]
    }
   ],
   "source": [
    "from diagnose import diagnose\n",
    "from dataset_process import knowns, ZsRE, counterfact, pararel, PEP3k, TwentyQ\n",
    "from models import llama, gptj, gpt2, qwen, t5, chatglm2, internlm, baichuan\n",
    "from methods import Selfexplanations\n",
    "\n",
    "dataset = knowns.KnownsDataset(loc=knowns.default_loc)\n",
    "sample = knowns.get_processed_kvs(dataset[0], Selfexplanations.requires_input_keys)\n",
    "\n",
    "result = diagnose.diagnosing(sample=sample, model_name_or_path=llama, method=Selfexplanations.name)\n",
    "print(result)"
   ]
  }
 ],
 "metadata": {
  "kernelspec": {
   "display_name": "Python 3 (ipykernel)",
   "language": "python",
   "name": "python3"
  },
  "language_info": {
   "codemirror_mode": {
    "name": "ipython",
    "version": 3
   },
   "file_extension": ".py",
   "mimetype": "text/x-python",
   "name": "python",
   "nbconvert_exporter": "python",
   "pygments_lexer": "ipython3",
   "version": "3.10.8"
  }
 },
 "nbformat": 4,
 "nbformat_minor": 5
}
