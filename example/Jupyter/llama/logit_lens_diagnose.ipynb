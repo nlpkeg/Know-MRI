{
 "cells": [
  {
   "cell_type": "code",
   "execution_count": 1,
   "id": "7308f250-674d-4414-8cf3-22eb1934bcd3",
   "metadata": {},
   "outputs": [
    {
     "name": "stdout",
     "output_type": "stream",
     "text": [
      "module 'kv_template' has no attribute 'dataset_info'\n",
      "Loaded dataset with 1209 elements\n",
      "loading model: /root/autodl-fs/llama-2-7b-hf\n"
     ]
    },
    {
     "name": "stderr",
     "output_type": "stream",
     "text": [
      "INFO:accelerate.utils.modeling:We will use 90% of the memory on device 0 for storing the model, and 10% for the buffer to avoid OOM. You can set `max_memory` in to a higher value to use more memory (at your own risk).\n"
     ]
    },
    {
     "data": {
      "application/json": {
       "ascii": false,
       "bar_format": null,
       "colour": null,
       "elapsed": 0.004747867584228516,
       "initial": 0,
       "n": 0,
       "ncols": null,
       "nrows": null,
       "postfix": null,
       "prefix": "Loading checkpoint shards",
       "rate": null,
       "total": 2,
       "unit": "it",
       "unit_divisor": 1000,
       "unit_scale": false
      },
      "application/vnd.jupyter.widget-view+json": {
       "model_id": "91bc7b63dcb74d14b718fe4d5878d5db",
       "version_major": 2,
       "version_minor": 0
      },
      "text/plain": [
       "Loading checkpoint shards:   0%|          | 0/2 [00:00<?, ?it/s]"
      ]
     },
     "metadata": {},
     "output_type": "display_data"
    },
    {
     "name": "stdout",
     "output_type": "stream",
     "text": [
      "/root/autodl-fs/llama-2-7b-hf model loaded\n",
      "{'output': '', 'image': [], 'table': [{'table_name': 'Hidden states top token', 'table_list': [{'Layer name': 'Layer_0', 'Top tokens': \"['beh', 'wards', 'board']\"}, {'Layer name': 'Layer_1', 'Top tokens': \"['in', '(', '.']\"}, {'Layer name': 'Layer_2', 'Top tokens': \"['beh', 'wards', 'going']\"}, {'Layer name': 'Layer_3', 'Top tokens': \"['beh', 'Kontrola', 'going']\"}, {'Layer name': 'Layer_4', 'Top tokens': \"['beh', '(', '<0x0A>']\"}, {'Layer name': 'Layer_5', 'Top tokens': \"['eso', 'liv', 'anim']\"}, {'Layer name': 'Layer_6', 'Top tokens': \"['oso', 'bur', 'ắ']\"}, {'Layer name': 'Layer_7', 'Top tokens': \"['oso', 'babel', 'щи']\"}, {'Layer name': 'Layer_8', 'Top tokens': \"['oso', 'Tamb', 'babel']\"}, {'Layer name': 'Layer_9', 'Top tokens': \"['oso', 'Tamb', 'щи']\"}, {'Layer name': 'Layer_10', 'Top tokens': \"['oso', 'screens', 'march']\"}, {'Layer name': 'Layer_11', 'Top tokens': \"['clock', 'clock', 'жи']\"}, {'Layer name': 'Layer_12', 'Top tokens': \"['chev', 'ardin', 'olg']\"}, {'Layer name': 'Layer_13', 'Top tokens': \"['chev', '\\\\u202d', 'rev']\"}, {'Layer name': 'Layer_14', 'Top tokens': \"['\\\\u202d', 'Bedeut', '<0x0A>']\"}, {'Layer name': 'Layer_15', 'Top tokens': \"['Bedeut', '\\\\u202d', 'Australian']\"}, {'Layer name': 'Layer_16', 'Top tokens': \"['Bedeut', '\\\\u202d', 'screen']\"}, {'Layer name': 'Layer_17', 'Top tokens': \"['\\\\u202d', 'Bedeut', 'screen']\"}, {'Layer name': 'Layer_18', 'Top tokens': \"['Bedeut', 'prime', '\\\\u202d']\"}, {'Layer name': 'Layer_19', 'Top tokens': \"['prime', 'network', 'networks']\"}, {'Layer name': 'Layer_20', 'Top tokens': \"['prime', 'CBS', 'iellement']\"}, {'Layer name': 'Layer_21', 'Top tokens': \"['CBS', 'prime', 'networks']\"}, {'Layer name': 'Layer_22', 'Top tokens': \"['CBS', 'network', 'Channel']\"}, {'Layer name': 'Layer_23', 'Top tokens': \"['CBS', 'Channel', 'network']\"}, {'Layer name': 'Layer_24', 'Top tokens': \"['CBS', 'Channel', 'September']\"}, {'Layer name': 'Layer_25', 'Top tokens': \"['CBS', 'Channel', 'ABC']\"}, {'Layer name': 'Layer_26', 'Top tokens': \"['CBS', 'Channel', 'network']\"}, {'Layer name': 'Layer_27', 'Top tokens': \"['CBS', 'Channel', 'prim']\"}, {'Layer name': 'Layer_28', 'Top tokens': \"['CBS', 'September', 'Channel']\"}, {'Layer name': 'Layer_29', 'Top tokens': \"['CBS', 'September', 'Channel']\"}, {'Layer name': 'Layer_30', 'Top tokens': \"['CBS', 'September', 'network']\"}, {'Layer name': 'Layer_31', 'Top tokens': \"['in', 'the', 'T']\"}, {'Layer name': 'Layer_32', 'Top tokens': \"['CBS', 'September', 'Monday']\"}], 'table_des': 'We use the lm head to decode the semantic information in the hidden states layer across the layer.', 'table_res': 'In the forward propagation of the model: \\nThe final token predicted by the model is CBS.'}], 'result_des': '', 'origin_data': {'top_tokens': [['beh', 'wards', 'board'], ['in', '(', '.'], ['beh', 'wards', 'going'], ['beh', 'Kontrola', 'going'], ['beh', '(', '<0x0A>'], ['eso', 'liv', 'anim'], ['oso', 'bur', 'ắ'], ['oso', 'babel', 'щи'], ['oso', 'Tamb', 'babel'], ['oso', 'Tamb', 'щи'], ['oso', 'screens', 'march'], ['clock', 'clock', 'жи'], ['chev', 'ardin', 'olg'], ['chev', '\\u202d', 'rev'], ['\\u202d', 'Bedeut', '<0x0A>'], ['Bedeut', '\\u202d', 'Australian'], ['Bedeut', '\\u202d', 'screen'], ['\\u202d', 'Bedeut', 'screen'], ['Bedeut', 'prime', '\\u202d'], ['prime', 'network', 'networks'], ['prime', 'CBS', 'iellement'], ['CBS', 'prime', 'networks'], ['CBS', 'network', 'Channel'], ['CBS', 'Channel', 'network'], ['CBS', 'Channel', 'September'], ['CBS', 'Channel', 'ABC'], ['CBS', 'Channel', 'network'], ['CBS', 'Channel', 'prim'], ['CBS', 'September', 'Channel'], ['CBS', 'September', 'Channel'], ['CBS', 'September', 'network'], ['in', 'the', 'T'], ['CBS', 'September', 'Monday']]}}\n"
     ]
    }
   ],
   "source": [
    "from diagnose import diagnose\n",
    "from dataset_process import knowns, ZsRE, counterfact\n",
    "from models import llama, gptj, gpt2,qwen, bert, t5, chatglm2, internlm, baichuan\n",
    "from methods import logit_lens\n",
    "\n",
    "dataset = knowns.KnownsDataset(loc=knowns.default_loc)\n",
    "sample = knowns.get_processed_kvs(dataset[3], logit_lens.requires_input_keys)\n",
    "# dataset = ZsRE.ZsREDataset(loc=ZsRE.default_loc)\n",
    "# sample = ZsRE.get_processed_kvs(dataset[0], kn.requires_input_keys)\n",
    "# dataset = counterfact.CounterfactDataset(loc=counterfact.default_loc)\n",
    "# sample = counterfact.get_processed_kvs(dataset[0], logit_lens.requires_input_keys)\n",
    "result = diagnose.diagnosing(sample=sample, model_name_or_path=llama, method=logit_lens.name)\n",
    "\n",
    "print(result)"
   ]
  }
 ],
 "metadata": {
  "kernelspec": {
   "display_name": "Python 3 (ipykernel)",
   "language": "python",
   "name": "python3"
  },
  "language_info": {
   "codemirror_mode": {
    "name": "ipython",
    "version": 3
   },
   "file_extension": ".py",
   "mimetype": "text/x-python",
   "name": "python",
   "nbconvert_exporter": "python",
   "pygments_lexer": "ipython3",
   "version": "3.10.8"
  }
 },
 "nbformat": 4,
 "nbformat_minor": 5
}
