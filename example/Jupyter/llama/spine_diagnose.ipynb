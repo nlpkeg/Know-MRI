{
 "cells": [
  {
   "cell_type": "code",
   "execution_count": 1,
   "id": "deb26b57-350c-4cf9-95d4-87cbd8498bb9",
   "metadata": {},
   "outputs": [
    {
     "name": "stdout",
     "output_type": "stream",
     "text": [
      "module 'kv_template' has no attribute 'dataset_info'\n",
      "Loaded dataset with 1301 elements\n",
      "loading model: /root/autodl-fs/llama-2-7b-hf\n"
     ]
    },
    {
     "name": "stderr",
     "output_type": "stream",
     "text": [
      "INFO:accelerate.utils.modeling:We will use 90% of the memory on device 0 for storing the model, and 10% for the buffer to avoid OOM. You can set `max_memory` in to a higher value to use more memory (at your own risk).\n"
     ]
    },
    {
     "data": {
      "application/json": {
       "ascii": false,
       "bar_format": null,
       "colour": null,
       "elapsed": 0.0055119991302490234,
       "initial": 0,
       "n": 0,
       "ncols": null,
       "nrows": null,
       "postfix": null,
       "prefix": "Loading checkpoint shards",
       "rate": null,
       "total": 2,
       "unit": "it",
       "unit_divisor": 1000,
       "unit_scale": false
      },
      "application/vnd.jupyter.widget-view+json": {
       "model_id": "6a1777a7f72540eb896557fde2355be9",
       "version_major": 2,
       "version_minor": 0
      },
      "text/plain": [
       "Loading checkpoint shards:   0%|          | 0/2 [00:00<?, ?it/s]"
      ]
     },
     "metadata": {},
     "output_type": "display_data"
    },
    {
     "name": "stdout",
     "output_type": "stream",
     "text": [
      "/root/autodl-fs/llama-2-7b-hf model loaded\n"
     ]
    },
    {
     "name": "stderr",
     "output_type": "stream",
     "text": [
      "/root/interpret-lm/methods/SPINE/SPINE_main.py:53: UserWarning: To copy construct from a tensor, it is recommended to use sourceTensor.clone().detach() or sourceTensor.clone().detach().requires_grad_(True), rather than torch.tensor(sourceTensor).\n",
      "  batch_x = torch.tensor(embedding).to(dtype)\n"
     ]
    },
    {
     "name": "stdout",
     "output_type": "stream",
     "text": [
      "{'origin_data': {'sample_tokens': ['<s>', '▁Which', '▁family', '▁does', '▁Ep', 'asp', 'id', 'oc', 'eras', '▁belong', '▁to', '?'], 'topk_embeddings': [[[3751, 0.020818127319216728], [16018, 0.020198799669742584], [1086, 0.01989118754863739], [548, 0.019522804766893387], [15634, 0.019492782652378082]], [[10931, 0.03810754418373108], [5690, 0.037782035768032074], [6021, 0.03523915633559227], [10455, 0.033877987414598465], [3750, 0.033634889870882034]], [[15056, 0.034982793033123016], [3909, 0.03414718434214592], [7174, 0.033866673707962036], [3560, 0.03299807012081146], [11123, 0.03276791423559189]], [[10411, 0.03653295338153839], [5022, 0.03355458006262779], [4791, 0.03195148706436157], [11192, 0.029518909752368927], [12058, 0.02942628599703312]], [[6055, 0.0444755032658577], [11124, 0.03973916172981262], [5791, 0.03902266547083855], [6522, 0.03881725296378136], [5341, 0.037108153104782104]], [[12552, 0.038327135145664215], [5280, 0.037404865026474], [9906, 0.03605452924966812], [14483, 0.03527878224849701], [4098, 0.03467092663049698]], [[10767, 0.03135468065738678], [12155, 0.02857097052037716], [12993, 0.02818784862756729], [3887, 0.027782948687672615], [7156, 0.026993732899427414]], [[811, 0.04082467034459114], [5896, 0.03717966005206108], [8566, 0.03602555766701698], [13583, 0.03367804363369942], [5019, 0.031691163778305054]], [[13258, 0.04641218110918999], [9100, 0.04192795604467392], [2256, 0.03872513025999069], [5993, 0.03797208517789841], [7620, 0.03766646236181259]], [[14051, 0.038307011127471924], [4062, 0.036556072533130646], [1719, 0.03625592216849327], [9801, 0.03553694859147072], [15429, 0.03535221517086029]], [[6752, 0.022013021633028984], [44, 0.021603085100650787], [2911, 0.021260999143123627], [9064, 0.021232152357697487], [1833, 0.020550156012177467]], [[7303, 0.028202004730701447], [4892, 0.026252716779708862], [14830, 0.026104722172021866], [15974, 0.025649473071098328], [3066, 0.025058168917894363]]]}, 'table': [{'table_name': ' token <s>', 'table_list': [{'dimension': 3751, 'activation values': 0.020818127319216728, 'The tokens with the highest activation values in this dimension of the vocabulary': ['sample', 'Deb', '▁standard', 'Changed', 'ében']}, {'dimension': 16018, 'activation values': 0.020198799669742584, 'The tokens with the highest activation values in this dimension of the vocabulary': ['master', '▁connect', '▁Windows', 'origin', 'ara']}, {'dimension': 1086, 'activation values': 0.01989118754863739, 'The tokens with the highest activation values in this dimension of the vocabulary': ['ect', '▁Hen', 'ning', 'aylor', '<0x9F>']}, {'dimension': 548, 'activation values': 0.019522804766893387, 'The tokens with the highest activation values in this dimension of the vocabulary': ['Token', 'setup', 'Deb', 'ération', '▁word']}, {'dimension': 15634, 'activation values': 0.019492782652378082, 'The tokens with the highest activation values in this dimension of the vocabulary': ['eten', 'ван', '▁Index', 'же', 'лання']}], 'table_des': 'Each row represents one of the top-k activation values along with its corresponding dimensional index and the several words from the vocabulary that have the highest activation values in this dimension', 'table_res': ''}, {'table_name': ' token ▁Which', 'table_list': [{'dimension': 10931, 'activation values': 0.03810754418373108, 'The tokens with the highest activation values in this dimension of the vocabulary': ['rew', 'is', '▁eing', 'zen', 'ван']}, {'dimension': 5690, 'activation values': 0.037782035768032074, 'The tokens with the highest activation values in this dimension of the vocabulary': ['Security', 'Deb', 'Account', '▁ud', '▁Ok']}, {'dimension': 6021, 'activation values': 0.03523915633559227, 'The tokens with the highest activation values in this dimension of the vocabulary': ['▁restart', ')\\\\', '▁i', '▁cre', '▁бра']}, {'dimension': 10455, 'activation values': 0.033877987414598465, 'The tokens with the highest activation values in this dimension of the vocabulary': ['▁+=', '▁av', '▁stru', '▁isn', '<0xF3>']}, {'dimension': 3750, 'activation values': 0.033634889870882034, 'The tokens with the highest activation values in this dimension of the vocabulary': ['ames', '▁Ти', '▁ship', 'el', 'links']}], 'table_des': 'Each row represents one of the top-k activation values along with its corresponding dimensional index and the several words from the vocabulary that have the highest activation values in this dimension', 'table_res': ''}, {'table_name': ' token ▁family', 'table_list': [{'dimension': 15056, 'activation values': 0.034982793033123016, 'The tokens with the highest activation values in this dimension of the vocabulary': ['▁то', 'fb', 'iona', 'ская', 'iness']}, {'dimension': 3909, 'activation values': 0.03414718434214592, 'The tokens with the highest activation values in this dimension of the vocabulary': ['▁take', 'aller', '▁Story', '▁columns', 'approx']}, {'dimension': 7174, 'activation values': 0.033866673707962036, 'The tokens with the highest activation values in this dimension of the vocabulary': ['OnClickListener', '▁somehow', 'sample', 'zioni', '▁libraries']}, {'dimension': 3560, 'activation values': 0.03299807012081146, 'The tokens with the highest activation values in this dimension of the vocabulary': ['ese', 'Token', '▁qui', 'Fa', '▁Fab']}, {'dimension': 11123, 'activation values': 0.03276791423559189, 'The tokens with the highest activation values in this dimension of the vocabulary': ['ination', 'utes', '▁Add', '▁sites', '▁player']}], 'table_des': 'Each row represents one of the top-k activation values along with its corresponding dimensional index and the several words from the vocabulary that have the highest activation values in this dimension', 'table_res': ''}, {'table_name': ' token ▁does', 'table_list': [{'dimension': 10411, 'activation values': 0.03653295338153839, 'The tokens with the highest activation values in this dimension of the vocabulary': ['▁tell', '▁сти', '▁place', '▁Fran', '▁ba']}, {'dimension': 5022, 'activation values': 0.03355458006262779, 'The tokens with the highest activation values in this dimension of the vocabulary': ['topic', '▁diesen', '▁Carlo', '▁finally', '▁av']}, {'dimension': 4791, 'activation values': 0.03195148706436157, 'The tokens with the highest activation values in this dimension of the vocabulary': ['▁maybe', 'unto', 'uba', 'fx', '<0x2A>']}, {'dimension': 11192, 'activation values': 0.029518909752368927, 'The tokens with the highest activation values in this dimension of the vocabulary': ['▁seva', '▁Billboard', '▁br', 'ССР', 'ork']}, {'dimension': 12058, 'activation values': 0.02942628599703312, 'The tokens with the highest activation values in this dimension of the vocabulary': ['▁y', 'ands', 'dated', '<0x28>', 'unde']}], 'table_des': 'Each row represents one of the top-k activation values along with its corresponding dimensional index and the several words from the vocabulary that have the highest activation values in this dimension', 'table_res': ''}, {'table_name': ' token ▁Ep', 'table_list': [{'dimension': 6055, 'activation values': 0.0444755032658577, 'The tokens with the highest activation values in this dimension of the vocabulary': ['What', 'agg', '▁View', '▁mundo', '▁area']}, {'dimension': 11124, 'activation values': 0.03973916172981262, 'The tokens with the highest activation values in this dimension of the vocabulary': ['auf', '▁Office', '▁Ab', 'PER', 'igi']}, {'dimension': 5791, 'activation values': 0.03902266547083855, 'The tokens with the highest activation values in this dimension of the vocabulary': ['▁Jacob', '▁mari', '▁áll', '▁Chief', 'PER']}, {'dimension': 6522, 'activation values': 0.03881725296378136, 'The tokens with the highest activation values in this dimension of the vocabulary': ['▁Та', '▁cul', '▁ont', '▁take', 'dp']}, {'dimension': 5341, 'activation values': 0.037108153104782104, 'The tokens with the highest activation values in this dimension of the vocabulary': ['uto', 'que', '▁vert', 'vare', 'ants']}], 'table_des': 'Each row represents one of the top-k activation values along with its corresponding dimensional index and the several words from the vocabulary that have the highest activation values in this dimension', 'table_res': ''}, {'table_name': ' token asp', 'table_list': [{'dimension': 12552, 'activation values': 0.038327135145664215, 'The tokens with the highest activation values in this dimension of the vocabulary': ['▁Tag', '▁ді', 'irl', '▁Gh', '▁так']}, {'dimension': 5280, 'activation values': 0.037404865026474, 'The tokens with the highest activation values in this dimension of the vocabulary': ['▁Path', 'LS', '▁compan', '▁).', '▁áll']}, {'dimension': 9906, 'activation values': 0.03605452924966812, 'The tokens with the highest activation values in this dimension of the vocabulary': ['▁ran', 'loy', 'ody', '▁conj', 'iginal']}, {'dimension': 14483, 'activation values': 0.03527878224849701, 'The tokens with the highest activation values in this dimension of the vocabulary': ['▁happ', 'Any', '▁сай', 'rown', '▁rep']}, {'dimension': 4098, 'activation values': 0.03467092663049698, 'The tokens with the highest activation values in this dimension of the vocabulary': ['▁с', 'ttp', 'Definition', '▁AS', '▁Te']}], 'table_des': 'Each row represents one of the top-k activation values along with its corresponding dimensional index and the several words from the vocabulary that have the highest activation values in this dimension', 'table_res': ''}, {'table_name': ' token id', 'table_list': [{'dimension': 10767, 'activation values': 0.03135468065738678, 'The tokens with the highest activation values in this dimension of the vocabulary': ['▁Major', '▁that', 'Inter', '▁connect', '▁person']}, {'dimension': 12155, 'activation values': 0.02857097052037716, 'The tokens with the highest activation values in this dimension of the vocabulary': ['▁conv', 'phen', '▁Rest', 'va', '▁tour']}, {'dimension': 12993, 'activation values': 0.02818784862756729, 'The tokens with the highest activation values in this dimension of the vocabulary': ['ournal', '▁groupe', 'Request', 'ander', '▁aim']}, {'dimension': 3887, 'activation values': 0.027782948687672615, 'The tokens with the highest activation values in this dimension of the vocabulary': ['tó', '▁latter', '▁<<', '▁OP', 'izar']}, {'dimension': 7156, 'activation values': 0.026993732899427414, 'The tokens with the highest activation values in this dimension of the vocabulary': ['umen', '▁});', '▁на', '▁connect', 'hot']}], 'table_des': 'Each row represents one of the top-k activation values along with its corresponding dimensional index and the several words from the vocabulary that have the highest activation values in this dimension', 'table_res': ''}, {'table_name': ' token oc', 'table_list': [{'dimension': 811, 'activation values': 0.04082467034459114, 'The tokens with the highest activation values in this dimension of the vocabulary': ['ici', '▁Bern', 'ayout', '▁райо', '▁happ']}, {'dimension': 5896, 'activation values': 0.03717966005206108, 'The tokens with the highest activation values in this dimension of the vocabulary': ['▁knows', '▁avoir', '▁Jam', 'domain', '▁caus']}, {'dimension': 8566, 'activation values': 0.03602555766701698, 'The tokens with the highest activation values in this dimension of the vocabulary': ['forEach', 'addr', 'pos', 'ся', '▁shall']}, {'dimension': 13583, 'activation values': 0.03367804363369942, 'The tokens with the highest activation values in this dimension of the vocabulary': ['▁cross', '▁Reference', '▁ep', '▁observe', '▁metric']}, {'dimension': 5019, 'activation values': 0.031691163778305054, 'The tokens with the highest activation values in this dimension of the vocabulary': ['result', '<0x25>', 'тей', 'era', 'ске']}], 'table_des': 'Each row represents one of the top-k activation values along with its corresponding dimensional index and the several words from the vocabulary that have the highest activation values in this dimension', 'table_res': ''}, {'table_name': ' token eras', 'table_list': [{'dimension': 13258, 'activation values': 0.04641218110918999, 'The tokens with the highest activation values in this dimension of the vocabulary': ['tim', '▁America', 'emente', '▁col', '▁Day']}, {'dimension': 9100, 'activation values': 0.04192795604467392, 'The tokens with the highest activation values in this dimension of the vocabulary': ['string', '▁i', '~~~~', 'ез', '▁letters']}, {'dimension': 2256, 'activation values': 0.03872513025999069, 'The tokens with the highest activation values in this dimension of the vocabulary': ['ether', '▁actually', '▁э', 'uba', '▁як']}, {'dimension': 5993, 'activation values': 0.03797208517789841, 'The tokens with the highest activation values in this dimension of the vocabulary': ['ateg', 'kir', 'Rows', '▁bur', 'met']}, {'dimension': 7620, 'activation values': 0.03766646236181259, 'The tokens with the highest activation values in this dimension of the vocabulary': ['чка', 'conom', 'LS', 'га', 'ibly']}], 'table_des': 'Each row represents one of the top-k activation values along with its corresponding dimensional index and the several words from the vocabulary that have the highest activation values in this dimension', 'table_res': ''}, {'table_name': ' token ▁belong', 'table_list': [{'dimension': 14051, 'activation values': 0.038307011127471924, 'The tokens with the highest activation values in this dimension of the vocabulary': ['here', 'Em', '<0xD6>', '▁Day', 'string']}, {'dimension': 4062, 'activation values': 0.036556072533130646, 'The tokens with the highest activation values in this dimension of the vocabulary': ['▁remote', '▁standard', '▁elle', 'ki', 'нее']}, {'dimension': 1719, 'activation values': 0.03625592216849327, 'The tokens with the highest activation values in this dimension of the vocabulary': ['ke', 'browser', '.(', '▁domin', '▁Juli']}, {'dimension': 9801, 'activation values': 0.03553694859147072, 'The tokens with the highest activation values in this dimension of the vocabulary': ['▁Ray', '<0xBC>', '▁și', '▁till', 'rupt']}, {'dimension': 15429, 'activation values': 0.03535221517086029, 'The tokens with the highest activation values in this dimension of the vocabulary': ['idel', '▁на', ')$.', '▁Die', 'ath']}], 'table_des': 'Each row represents one of the top-k activation values along with its corresponding dimensional index and the several words from the vocabulary that have the highest activation values in this dimension', 'table_res': ''}, {'table_name': ' token ▁to', 'table_list': [{'dimension': 6752, 'activation values': 0.022013021633028984, 'The tokens with the highest activation values in this dimension of the vocabulary': ['▁relation', '▁цент', 'fx', 'унк', 'unity']}, {'dimension': 44, 'activation values': 0.021603085100650787, 'The tokens with the highest activation values in this dimension of the vocabulary': ['won', 'uit', 'oma', '▁a', '▁hous']}, {'dimension': 2911, 'activation values': 0.021260999143123627, 'The tokens with the highest activation values in this dimension of the vocabulary': ['}(\\\\', '▁usually', 'Video', '▁exceptions', '▁forms']}, {'dimension': 9064, 'activation values': 0.021232152357697487, 'The tokens with the highest activation values in this dimension of the vocabulary': ['▁cool', '▁validate', 'agu', '▁\"\",', '▁everything']}, {'dimension': 1833, 'activation values': 0.020550156012177467, 'The tokens with the highest activation values in this dimension of the vocabulary': ['oso', '<0x6A>', 'тов', '▁nav', 'тно']}], 'table_des': 'Each row represents one of the top-k activation values along with its corresponding dimensional index and the several words from the vocabulary that have the highest activation values in this dimension', 'table_res': ''}, {'table_name': ' token ?', 'table_list': [{'dimension': 7303, 'activation values': 0.028202004730701447, 'The tokens with the highest activation values in this dimension of the vocabulary': [')>', '▁sin', 'rightarrow', '▁США', 'Sw']}, {'dimension': 4892, 'activation values': 0.026252716779708862, 'The tokens with the highest activation values in this dimension of the vocabulary': ['▁Архи', 'ause', '▁deb', '▁Kaz', 'rig']}, {'dimension': 14830, 'activation values': 0.026104722172021866, 'The tokens with the highest activation values in this dimension of the vocabulary': ['ір', 'igt', 'oux', '▁O', 'liga']}, {'dimension': 15974, 'activation values': 0.025649473071098328, 'The tokens with the highest activation values in this dimension of the vocabulary': ['▁Bet', 'lei', '____', '▁pray', '▁Les']}, {'dimension': 3066, 'activation values': 0.025058168917894363, 'The tokens with the highest activation values in this dimension of the vocabulary': ['▁It', '▁UE', 'ém', 'itel', '▁Serie']}], 'table_des': 'Each row represents one of the top-k activation values along with its corresponding dimensional index and the several words from the vocabulary that have the highest activation values in this dimension', 'table_res': ''}], 'result_des': ''}\n"
     ]
    }
   ],
   "source": [
    "from diagnose import diagnose\n",
    "from dataset_process import ZsRE\n",
    "from models import llama, gptj, gpt2, bert, t5, qwen, chatglm2\n",
    "from methods import SPINE\n",
    "\n",
    "dataset = ZsRE.ZsREDataset(loc=ZsRE.default_loc)\n",
    "sample = ZsRE.get_processed_kvs(dataset[0], SPINE.requires_input_keys)\n",
    "result = diagnose.diagnosing(sample=sample, model_name_or_path=llama, method=SPINE.name)\n",
    "\n",
    "print(result)"
   ]
  }
 ],
 "metadata": {
  "kernelspec": {
   "display_name": "Python 3 (ipykernel)",
   "language": "python",
   "name": "python3"
  },
  "language_info": {
   "codemirror_mode": {
    "name": "ipython",
    "version": 3
   },
   "file_extension": ".py",
   "mimetype": "text/x-python",
   "name": "python",
   "nbconvert_exporter": "python",
   "pygments_lexer": "ipython3",
   "version": "3.10.8"
  }
 },
 "nbformat": 4,
 "nbformat_minor": 5
}
