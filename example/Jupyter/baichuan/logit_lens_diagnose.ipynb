{
 "cells": [
  {
   "cell_type": "code",
   "execution_count": 1,
   "id": "7308f250-674d-4414-8cf3-22eb1934bcd3",
   "metadata": {},
   "outputs": [
    {
     "name": "stdout",
     "output_type": "stream",
     "text": [
      "module 'kv_template' has no attribute 'dataset_info'\n",
      "Loaded dataset with 1209 elements\n",
      "loading model: /root/autodl-fs/baichuan\n"
     ]
    },
    {
     "name": "stderr",
     "output_type": "stream",
     "text": [
      "INFO:accelerate.utils.modeling:We will use 90% of the memory on device 0 for storing the model, and 10% for the buffer to avoid OOM. You can set `max_memory` in to a higher value to use more memory (at your own risk).\n"
     ]
    },
    {
     "data": {
      "application/json": {
       "ascii": false,
       "bar_format": null,
       "colour": null,
       "elapsed": 0.005094766616821289,
       "initial": 0,
       "n": 0,
       "ncols": null,
       "nrows": null,
       "postfix": null,
       "prefix": "Loading checkpoint shards",
       "rate": null,
       "total": 8,
       "unit": "it",
       "unit_divisor": 1000,
       "unit_scale": false
      },
      "application/vnd.jupyter.widget-view+json": {
       "model_id": "a966d107db4c4b5e86320e2c055e8fef",
       "version_major": 2,
       "version_minor": 0
      },
      "text/plain": [
       "Loading checkpoint shards:   0%|          | 0/8 [00:00<?, ?it/s]"
      ]
     },
     "metadata": {},
     "output_type": "display_data"
    },
    {
     "name": "stderr",
     "output_type": "stream",
     "text": [
      "Some weights of the model checkpoint at /root/autodl-fs/baichuan were not used when initializing InternLMForCausalLM: ['model.layers.0.self_attn.rotary_emb.inv_freq', 'model.layers.21.self_attn.rotary_emb.inv_freq', 'model.layers.7.self_attn.rotary_emb.inv_freq', 'model.layers.10.self_attn.rotary_emb.inv_freq', 'model.layers.19.self_attn.rotary_emb.inv_freq', 'model.layers.5.self_attn.rotary_emb.inv_freq', 'model.layers.22.self_attn.rotary_emb.inv_freq', 'model.layers.13.self_attn.rotary_emb.inv_freq', 'model.layers.3.self_attn.rotary_emb.inv_freq', 'model.layers.31.self_attn.rotary_emb.inv_freq', 'model.layers.20.self_attn.rotary_emb.inv_freq', 'model.layers.1.self_attn.rotary_emb.inv_freq', 'model.layers.16.self_attn.rotary_emb.inv_freq', 'model.layers.24.self_attn.rotary_emb.inv_freq', 'model.layers.23.self_attn.rotary_emb.inv_freq', 'model.layers.30.self_attn.rotary_emb.inv_freq', 'model.layers.11.self_attn.rotary_emb.inv_freq', 'model.layers.9.self_attn.rotary_emb.inv_freq', 'model.layers.4.self_attn.rotary_emb.inv_freq', 'model.layers.18.self_attn.rotary_emb.inv_freq', 'model.layers.15.self_attn.rotary_emb.inv_freq', 'model.layers.2.self_attn.rotary_emb.inv_freq', 'model.layers.12.self_attn.rotary_emb.inv_freq', 'model.layers.8.self_attn.rotary_emb.inv_freq', 'model.layers.6.self_attn.rotary_emb.inv_freq', 'model.layers.27.self_attn.rotary_emb.inv_freq', 'model.layers.25.self_attn.rotary_emb.inv_freq', 'model.layers.26.self_attn.rotary_emb.inv_freq', 'model.layers.17.self_attn.rotary_emb.inv_freq', 'model.layers.28.self_attn.rotary_emb.inv_freq', 'model.layers.29.self_attn.rotary_emb.inv_freq', 'model.layers.14.self_attn.rotary_emb.inv_freq']\n",
      "- This IS expected if you are initializing InternLMForCausalLM from the checkpoint of a model trained on another task or with another architecture (e.g. initializing a BertForSequenceClassification model from a BertForPreTraining model).\n",
      "- This IS NOT expected if you are initializing InternLMForCausalLM from the checkpoint of a model that you expect to be exactly identical (initializing a BertForSequenceClassification model from a BertForSequenceClassification model).\n"
     ]
    },
    {
     "name": "stdout",
     "output_type": "stream",
     "text": [
      "/root/autodl-fs/baichuan model loaded\n",
      "{'output': '', 'image': [], 'table': [{'table_name': 'Hidden states top token', 'table_list': [{'Layer name': 'Layer_0', 'Top tokens': \"[' behalf', 'site', 'ward']\"}, {'Layer name': 'Layer_1', 'Top tokens': \"[',', '\\\\n', ' ']\"}, {'Layer name': 'Layer_2', 'Top tokens': \"[',', '\\\\n', ' ']\"}, {'Layer name': 'Layer_3', 'Top tokens': \"[',', ' ', '\\\\n']\"}, {'Layer name': 'Layer_4', 'Top tokens': \"[' ', ',', '\\\\n']\"}, {'Layer name': 'Layer_5', 'Top tokens': \"[' ', ',', '\\\\n']\"}, {'Layer name': 'Layer_6', 'Top tokens': \"[' ', ',', '\\\\n']\"}, {'Layer name': 'Layer_7', 'Top tokens': \"[' ', ',', '\\\\n']\"}, {'Layer name': 'Layer_8', 'Top tokens': \"[' ', ',', '\\\\n']\"}, {'Layer name': 'Layer_9', 'Top tokens': \"[' ', ',', '\\\\n']\"}, {'Layer name': 'Layer_10', 'Top tokens': \"[' ', ',', '\\\\n']\"}, {'Layer name': 'Layer_11', 'Top tokens': \"[' ', ',', '\\\\n']\"}, {'Layer name': 'Layer_12', 'Top tokens': \"[',', ' ', '\\\\n']\"}, {'Layer name': 'Layer_13', 'Top tokens': \"[',', ' ', '\\\\n']\"}, {'Layer name': 'Layer_14', 'Top tokens': \"[',', '\\\\n', ' ']\"}, {'Layer name': 'Layer_15', 'Top tokens': \"[',', ' ', '\\\\n']\"}, {'Layer name': 'Layer_16', 'Top tokens': \"[',', '\\\\n', ' ']\"}, {'Layer name': 'Layer_17', 'Top tokens': \"[',', '\\\\n', ' ']\"}, {'Layer name': 'Layer_18', 'Top tokens': \"[',', '\\\\n', ' ']\"}, {'Layer name': 'Layer_19', 'Top tokens': \"['\\\\n', ',', ' ']\"}, {'Layer name': 'Layer_20', 'Top tokens': \"['\\\\n', ',', ' ']\"}, {'Layer name': 'Layer_21', 'Top tokens': \"['\\\\n', ',', ' ']\"}, {'Layer name': 'Layer_22', 'Top tokens': \"['\\\\n', ' ', ',']\"}, {'Layer name': 'Layer_23', 'Top tokens': \"['\\\\n', ' ', ',']\"}, {'Layer name': 'Layer_24', 'Top tokens': \"['\\\\n', ' ', ',']\"}, {'Layer name': 'Layer_25', 'Top tokens': \"['\\\\n', ' ', ',']\"}, {'Layer name': 'Layer_26', 'Top tokens': \"['\\\\n', ' Netflix', ' NBC']\"}, {'Layer name': 'Layer_27', 'Top tokens': \"[' NBC', ' television', ' TV']\"}, {'Layer name': 'Layer_28', 'Top tokens': \"[' CBS', ' NBC', ' TV']\"}, {'Layer name': 'Layer_29', 'Top tokens': \"[' CBS', ' NBC', ' ABC']\"}, {'Layer name': 'Layer_30', 'Top tokens': \"[' CBS', ' NBC', ' ']\"}, {'Layer name': 'Layer_31', 'Top tokens': \"[' ', '\\\\n', '<unk>']\"}, {'Layer name': 'Layer_32', 'Top tokens': \"[' CBS', ' Thursday', ' Monday']\"}], 'table_des': 'We use the lm head to decode the semantic information in the hidden states layer across the layer.', 'table_res': 'In the forward propagation of the model: \\nThe final token predicted by the model is  CBS.'}], 'result_des': '', 'origin_data': {'top_tokens': [[' behalf', 'site', 'ward'], [',', '\\n', ' '], [',', '\\n', ' '], [',', ' ', '\\n'], [' ', ',', '\\n'], [' ', ',', '\\n'], [' ', ',', '\\n'], [' ', ',', '\\n'], [' ', ',', '\\n'], [' ', ',', '\\n'], [' ', ',', '\\n'], [' ', ',', '\\n'], [',', ' ', '\\n'], [',', ' ', '\\n'], [',', '\\n', ' '], [',', ' ', '\\n'], [',', '\\n', ' '], [',', '\\n', ' '], [',', '\\n', ' '], ['\\n', ',', ' '], ['\\n', ',', ' '], ['\\n', ',', ' '], ['\\n', ' ', ','], ['\\n', ' ', ','], ['\\n', ' ', ','], ['\\n', ' ', ','], ['\\n', ' Netflix', ' NBC'], [' NBC', ' television', ' TV'], [' CBS', ' NBC', ' TV'], [' CBS', ' NBC', ' ABC'], [' CBS', ' NBC', ' '], [' ', '\\n', '<unk>'], [' CBS', ' Thursday', ' Monday']]}}\n"
     ]
    }
   ],
   "source": [
    "from diagnose import diagnose\n",
    "from dataset_process import knowns, ZsRE, counterfact\n",
    "from models import llama, gptj, gpt2, qwen, bert, t5, chatglm2, internlm, baichuan\n",
    "from methods import logit_lens\n",
    "\n",
    "dataset = knowns.KnownsDataset(loc=knowns.default_loc)\n",
    "sample = knowns.get_processed_kvs(dataset[3], logit_lens.requires_input_keys)\n",
    "# dataset = ZsRE.ZsREDataset(loc=ZsRE.default_loc)\n",
    "# sample = ZsRE.get_processed_kvs(dataset[0], kn.requires_input_keys)\n",
    "# dataset = counterfact.CounterfactDataset(loc=counterfact.default_loc)\n",
    "# sample = counterfact.get_processed_kvs(dataset[0], logit_lens.requires_input_keys)\n",
    "result = diagnose.diagnosing(sample=sample, model_name_or_path=baichuan, method=logit_lens.name)\n",
    "\n",
    "print(result)\n"
   ]
  }
 ],
 "metadata": {
  "kernelspec": {
   "display_name": "Python 3 (ipykernel)",
   "language": "python",
   "name": "python3"
  },
  "language_info": {
   "codemirror_mode": {
    "name": "ipython",
    "version": 3
   },
   "file_extension": ".py",
   "mimetype": "text/x-python",
   "name": "python",
   "nbconvert_exporter": "python",
   "pygments_lexer": "ipython3",
   "version": "3.10.8"
  }
 },
 "nbformat": 4,
 "nbformat_minor": 5
}
