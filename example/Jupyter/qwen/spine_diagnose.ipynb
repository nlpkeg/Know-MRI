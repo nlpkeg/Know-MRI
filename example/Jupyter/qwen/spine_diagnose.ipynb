{
 "cells": [
  {
   "cell_type": "code",
   "execution_count": 1,
   "id": "deb26b57-350c-4cf9-95d4-87cbd8498bb9",
   "metadata": {},
   "outputs": [
    {
     "name": "stderr",
     "output_type": "stream",
     "text": [
      "WARNING:transformers_modules.Qwen-1_8B.modeling_qwen:The model is automatically converting to bf16 for faster inference. If you want to disable the automatic precision, please manually add bf16/fp16/fp32=True to \"AutoModelForCausalLM.from_pretrained\".\n",
      "WARNING:transformers_modules.Qwen-1_8B.modeling_qwen:Try importing flash-attention for faster inference...\n",
      "WARNING:transformers_modules.Qwen-1_8B.modeling_qwen:Warning: import flash_attn rotary fail, please install FlashAttention rotary to get higher efficiency https://github.com/Dao-AILab/flash-attention/tree/main/csrc/rotary\n",
      "WARNING:transformers_modules.Qwen-1_8B.modeling_qwen:Warning: import flash_attn rms_norm fail, please install FlashAttention layer_norm to get higher efficiency https://github.com/Dao-AILab/flash-attention/tree/main/csrc/layer_norm\n",
      "WARNING:transformers_modules.Qwen-1_8B.modeling_qwen:Warning: import flash_attn fail, please install FlashAttention to get higher efficiency https://github.com/Dao-AILab/flash-attention\n"
     ]
    },
    {
     "name": "stdout",
     "output_type": "stream",
     "text": [
      "module 'kv_template' has no attribute 'dataset_info'\n",
      "Loaded dataset with 1301 elements\n",
      "loading model: /root/autodl-tmp/Qwen-1_8B\n"
     ]
    },
    {
     "name": "stderr",
     "output_type": "stream",
     "text": [
      "INFO:accelerate.utils.modeling:We will use 90% of the memory on device 0 for storing the model, and 10% for the buffer to avoid OOM. You can set `max_memory` in to a higher value to use more memory (at your own risk).\n"
     ]
    },
    {
     "data": {
      "application/json": {
       "ascii": false,
       "bar_format": null,
       "colour": null,
       "elapsed": 0.005110502243041992,
       "initial": 0,
       "n": 0,
       "ncols": null,
       "nrows": null,
       "postfix": null,
       "prefix": "Loading checkpoint shards",
       "rate": null,
       "total": 2,
       "unit": "it",
       "unit_divisor": 1000,
       "unit_scale": false
      },
      "application/vnd.jupyter.widget-view+json": {
       "model_id": "7d310764d2f34012be29ae6442557fda",
       "version_major": 2,
       "version_minor": 0
      },
      "text/plain": [
       "Loading checkpoint shards:   0%|          | 0/2 [00:00<?, ?it/s]"
      ]
     },
     "metadata": {},
     "output_type": "display_data"
    },
    {
     "name": "stdout",
     "output_type": "stream",
     "text": [
      "/root/autodl-tmp/Qwen-1_8B model loaded\n"
     ]
    },
    {
     "name": "stderr",
     "output_type": "stream",
     "text": [
      "/root/interpret-lm/methods/SPINE/SPINE_main.py:53: UserWarning: To copy construct from a tensor, it is recommended to use sourceTensor.clone().detach() or sourceTensor.clone().detach().requires_grad_(True), rather than torch.tensor(sourceTensor).\n",
      "  batch_x = torch.tensor(embedding).to(dtype)\n"
     ]
    },
    {
     "name": "stdout",
     "output_type": "stream",
     "text": [
      "{'origin_data': {'sample_tokens': [b'Which', b'family', b'does', b'Ep', b'as', b'pid', b'oc', b'eras', b'bel', b'ong', b'to', b'?'], 'topk_embeddings': [[[1, 0.0], [0, 0.0], [2, 0.0], [4, 0.0], [3, 0.0]], [[1, 0.0], [0, 0.0], [2, 0.0], [4, 0.0], [3, 0.0]], [[7703, 0.003589797765016556], [2, 0.0], [0, 0.0], [3, 0.0], [1, 0.0]], [[1, 0.0], [0, 0.0], [2, 0.0], [4, 0.0], [3, 0.0]], [[1, 0.0], [0, 0.0], [2, 0.0], [4, 0.0], [3, 0.0]], [[7297, 0.0003659762442111969], [2, 0.0], [0, 0.0], [3, 0.0], [1, 0.0]], [[1, 0.0], [0, 0.0], [2, 0.0], [4, 0.0], [3, 0.0]], [[1, 0.0], [0, 0.0], [2, 0.0], [4, 0.0], [3, 0.0]], [[1, 0.0], [0, 0.0], [2, 0.0], [4, 0.0], [3, 0.0]], [[1, 0.0], [0, 0.0], [2, 0.0], [4, 0.0], [3, 0.0]], [[1, 0.0], [0, 0.0], [2, 0.0], [4, 0.0], [3, 0.0]], [[1, 0.0], [0, 0.0], [2, 0.0], [4, 0.0], [3, 0.0]]]}, 'table': [{'table_name': \" token b'Which'\", 'table_list': [{'dimension': 1, 'activation values': 0.0, 'The tokens with the highest activation values in this dimension of the vocabulary': [b'\"', b'!', b'#', b'%', b'$']}, {'dimension': 0, 'activation values': 0.0, 'The tokens with the highest activation values in this dimension of the vocabulary': [b'\"', b'!', b'#', b'%', b'$']}, {'dimension': 2, 'activation values': 0.0, 'The tokens with the highest activation values in this dimension of the vocabulary': [b'\"', b'!', b'#', b'%', b'$']}, {'dimension': 4, 'activation values': 0.0, 'The tokens with the highest activation values in this dimension of the vocabulary': [b'\"', b'!', b'#', b'%', b'$']}, {'dimension': 3, 'activation values': 0.0, 'The tokens with the highest activation values in this dimension of the vocabulary': [b'\"', b'!', b'#', b'%', b'$']}], 'table_des': 'Each row represents one of the top-k activation values along with its corresponding dimensional index and the several words from the vocabulary that have the highest activation values in this dimension', 'table_res': ''}, {'table_name': \" token b'family'\", 'table_list': [{'dimension': 1, 'activation values': 0.0, 'The tokens with the highest activation values in this dimension of the vocabulary': [b'\"', b'!', b'#', b'%', b'$']}, {'dimension': 0, 'activation values': 0.0, 'The tokens with the highest activation values in this dimension of the vocabulary': [b'\"', b'!', b'#', b'%', b'$']}, {'dimension': 2, 'activation values': 0.0, 'The tokens with the highest activation values in this dimension of the vocabulary': [b'\"', b'!', b'#', b'%', b'$']}, {'dimension': 4, 'activation values': 0.0, 'The tokens with the highest activation values in this dimension of the vocabulary': [b'\"', b'!', b'#', b'%', b'$']}, {'dimension': 3, 'activation values': 0.0, 'The tokens with the highest activation values in this dimension of the vocabulary': [b'\"', b'!', b'#', b'%', b'$']}], 'table_des': 'Each row represents one of the top-k activation values along with its corresponding dimensional index and the several words from the vocabulary that have the highest activation values in this dimension', 'table_res': ''}, {'table_name': \" token b'does'\", 'table_list': [{'dimension': 7703, 'activation values': 0.003589797765016556, 'The tokens with the highest activation values in this dimension of the vocabulary': [b'\"', b'!', b'#', b'%', b'$']}, {'dimension': 2, 'activation values': 0.0, 'The tokens with the highest activation values in this dimension of the vocabulary': [b'\"', b'!', b'#', b'%', b'$']}, {'dimension': 0, 'activation values': 0.0, 'The tokens with the highest activation values in this dimension of the vocabulary': [b'\"', b'!', b'#', b'%', b'$']}, {'dimension': 3, 'activation values': 0.0, 'The tokens with the highest activation values in this dimension of the vocabulary': [b'\"', b'!', b'#', b'%', b'$']}, {'dimension': 1, 'activation values': 0.0, 'The tokens with the highest activation values in this dimension of the vocabulary': [b'\"', b'!', b'#', b'%', b'$']}], 'table_des': 'Each row represents one of the top-k activation values along with its corresponding dimensional index and the several words from the vocabulary that have the highest activation values in this dimension', 'table_res': ''}, {'table_name': \" token b'Ep'\", 'table_list': [{'dimension': 1, 'activation values': 0.0, 'The tokens with the highest activation values in this dimension of the vocabulary': [b'\"', b'!', b'#', b'%', b'$']}, {'dimension': 0, 'activation values': 0.0, 'The tokens with the highest activation values in this dimension of the vocabulary': [b'\"', b'!', b'#', b'%', b'$']}, {'dimension': 2, 'activation values': 0.0, 'The tokens with the highest activation values in this dimension of the vocabulary': [b'\"', b'!', b'#', b'%', b'$']}, {'dimension': 4, 'activation values': 0.0, 'The tokens with the highest activation values in this dimension of the vocabulary': [b'\"', b'!', b'#', b'%', b'$']}, {'dimension': 3, 'activation values': 0.0, 'The tokens with the highest activation values in this dimension of the vocabulary': [b'\"', b'!', b'#', b'%', b'$']}], 'table_des': 'Each row represents one of the top-k activation values along with its corresponding dimensional index and the several words from the vocabulary that have the highest activation values in this dimension', 'table_res': ''}, {'table_name': \" token b'as'\", 'table_list': [{'dimension': 1, 'activation values': 0.0, 'The tokens with the highest activation values in this dimension of the vocabulary': [b'\"', b'!', b'#', b'%', b'$']}, {'dimension': 0, 'activation values': 0.0, 'The tokens with the highest activation values in this dimension of the vocabulary': [b'\"', b'!', b'#', b'%', b'$']}, {'dimension': 2, 'activation values': 0.0, 'The tokens with the highest activation values in this dimension of the vocabulary': [b'\"', b'!', b'#', b'%', b'$']}, {'dimension': 4, 'activation values': 0.0, 'The tokens with the highest activation values in this dimension of the vocabulary': [b'\"', b'!', b'#', b'%', b'$']}, {'dimension': 3, 'activation values': 0.0, 'The tokens with the highest activation values in this dimension of the vocabulary': [b'\"', b'!', b'#', b'%', b'$']}], 'table_des': 'Each row represents one of the top-k activation values along with its corresponding dimensional index and the several words from the vocabulary that have the highest activation values in this dimension', 'table_res': ''}, {'table_name': \" token b'pid'\", 'table_list': [{'dimension': 7297, 'activation values': 0.0003659762442111969, 'The tokens with the highest activation values in this dimension of the vocabulary': [b'\"', b'!', b'#', b'%', b'$']}, {'dimension': 2, 'activation values': 0.0, 'The tokens with the highest activation values in this dimension of the vocabulary': [b'\"', b'!', b'#', b'%', b'$']}, {'dimension': 0, 'activation values': 0.0, 'The tokens with the highest activation values in this dimension of the vocabulary': [b'\"', b'!', b'#', b'%', b'$']}, {'dimension': 3, 'activation values': 0.0, 'The tokens with the highest activation values in this dimension of the vocabulary': [b'\"', b'!', b'#', b'%', b'$']}, {'dimension': 1, 'activation values': 0.0, 'The tokens with the highest activation values in this dimension of the vocabulary': [b'\"', b'!', b'#', b'%', b'$']}], 'table_des': 'Each row represents one of the top-k activation values along with its corresponding dimensional index and the several words from the vocabulary that have the highest activation values in this dimension', 'table_res': ''}, {'table_name': \" token b'oc'\", 'table_list': [{'dimension': 1, 'activation values': 0.0, 'The tokens with the highest activation values in this dimension of the vocabulary': [b'\"', b'!', b'#', b'%', b'$']}, {'dimension': 0, 'activation values': 0.0, 'The tokens with the highest activation values in this dimension of the vocabulary': [b'\"', b'!', b'#', b'%', b'$']}, {'dimension': 2, 'activation values': 0.0, 'The tokens with the highest activation values in this dimension of the vocabulary': [b'\"', b'!', b'#', b'%', b'$']}, {'dimension': 4, 'activation values': 0.0, 'The tokens with the highest activation values in this dimension of the vocabulary': [b'\"', b'!', b'#', b'%', b'$']}, {'dimension': 3, 'activation values': 0.0, 'The tokens with the highest activation values in this dimension of the vocabulary': [b'\"', b'!', b'#', b'%', b'$']}], 'table_des': 'Each row represents one of the top-k activation values along with its corresponding dimensional index and the several words from the vocabulary that have the highest activation values in this dimension', 'table_res': ''}, {'table_name': \" token b'eras'\", 'table_list': [{'dimension': 1, 'activation values': 0.0, 'The tokens with the highest activation values in this dimension of the vocabulary': [b'\"', b'!', b'#', b'%', b'$']}, {'dimension': 0, 'activation values': 0.0, 'The tokens with the highest activation values in this dimension of the vocabulary': [b'\"', b'!', b'#', b'%', b'$']}, {'dimension': 2, 'activation values': 0.0, 'The tokens with the highest activation values in this dimension of the vocabulary': [b'\"', b'!', b'#', b'%', b'$']}, {'dimension': 4, 'activation values': 0.0, 'The tokens with the highest activation values in this dimension of the vocabulary': [b'\"', b'!', b'#', b'%', b'$']}, {'dimension': 3, 'activation values': 0.0, 'The tokens with the highest activation values in this dimension of the vocabulary': [b'\"', b'!', b'#', b'%', b'$']}], 'table_des': 'Each row represents one of the top-k activation values along with its corresponding dimensional index and the several words from the vocabulary that have the highest activation values in this dimension', 'table_res': ''}, {'table_name': \" token b'bel'\", 'table_list': [{'dimension': 1, 'activation values': 0.0, 'The tokens with the highest activation values in this dimension of the vocabulary': [b'\"', b'!', b'#', b'%', b'$']}, {'dimension': 0, 'activation values': 0.0, 'The tokens with the highest activation values in this dimension of the vocabulary': [b'\"', b'!', b'#', b'%', b'$']}, {'dimension': 2, 'activation values': 0.0, 'The tokens with the highest activation values in this dimension of the vocabulary': [b'\"', b'!', b'#', b'%', b'$']}, {'dimension': 4, 'activation values': 0.0, 'The tokens with the highest activation values in this dimension of the vocabulary': [b'\"', b'!', b'#', b'%', b'$']}, {'dimension': 3, 'activation values': 0.0, 'The tokens with the highest activation values in this dimension of the vocabulary': [b'\"', b'!', b'#', b'%', b'$']}], 'table_des': 'Each row represents one of the top-k activation values along with its corresponding dimensional index and the several words from the vocabulary that have the highest activation values in this dimension', 'table_res': ''}, {'table_name': \" token b'ong'\", 'table_list': [{'dimension': 1, 'activation values': 0.0, 'The tokens with the highest activation values in this dimension of the vocabulary': [b'\"', b'!', b'#', b'%', b'$']}, {'dimension': 0, 'activation values': 0.0, 'The tokens with the highest activation values in this dimension of the vocabulary': [b'\"', b'!', b'#', b'%', b'$']}, {'dimension': 2, 'activation values': 0.0, 'The tokens with the highest activation values in this dimension of the vocabulary': [b'\"', b'!', b'#', b'%', b'$']}, {'dimension': 4, 'activation values': 0.0, 'The tokens with the highest activation values in this dimension of the vocabulary': [b'\"', b'!', b'#', b'%', b'$']}, {'dimension': 3, 'activation values': 0.0, 'The tokens with the highest activation values in this dimension of the vocabulary': [b'\"', b'!', b'#', b'%', b'$']}], 'table_des': 'Each row represents one of the top-k activation values along with its corresponding dimensional index and the several words from the vocabulary that have the highest activation values in this dimension', 'table_res': ''}, {'table_name': \" token b'to'\", 'table_list': [{'dimension': 1, 'activation values': 0.0, 'The tokens with the highest activation values in this dimension of the vocabulary': [b'\"', b'!', b'#', b'%', b'$']}, {'dimension': 0, 'activation values': 0.0, 'The tokens with the highest activation values in this dimension of the vocabulary': [b'\"', b'!', b'#', b'%', b'$']}, {'dimension': 2, 'activation values': 0.0, 'The tokens with the highest activation values in this dimension of the vocabulary': [b'\"', b'!', b'#', b'%', b'$']}, {'dimension': 4, 'activation values': 0.0, 'The tokens with the highest activation values in this dimension of the vocabulary': [b'\"', b'!', b'#', b'%', b'$']}, {'dimension': 3, 'activation values': 0.0, 'The tokens with the highest activation values in this dimension of the vocabulary': [b'\"', b'!', b'#', b'%', b'$']}], 'table_des': 'Each row represents one of the top-k activation values along with its corresponding dimensional index and the several words from the vocabulary that have the highest activation values in this dimension', 'table_res': ''}, {'table_name': \" token b'?'\", 'table_list': [{'dimension': 1, 'activation values': 0.0, 'The tokens with the highest activation values in this dimension of the vocabulary': [b'\"', b'!', b'#', b'%', b'$']}, {'dimension': 0, 'activation values': 0.0, 'The tokens with the highest activation values in this dimension of the vocabulary': [b'\"', b'!', b'#', b'%', b'$']}, {'dimension': 2, 'activation values': 0.0, 'The tokens with the highest activation values in this dimension of the vocabulary': [b'\"', b'!', b'#', b'%', b'$']}, {'dimension': 4, 'activation values': 0.0, 'The tokens with the highest activation values in this dimension of the vocabulary': [b'\"', b'!', b'#', b'%', b'$']}, {'dimension': 3, 'activation values': 0.0, 'The tokens with the highest activation values in this dimension of the vocabulary': [b'\"', b'!', b'#', b'%', b'$']}], 'table_des': 'Each row represents one of the top-k activation values along with its corresponding dimensional index and the several words from the vocabulary that have the highest activation values in this dimension', 'table_res': ''}], 'result_des': ''}\n"
     ]
    }
   ],
   "source": [
    "from diagnose import diagnose\n",
    "from dataset_process import ZsRE\n",
    "from models import llama, gptj, gpt2, bert, t5, qwen, chatglm2\n",
    "from methods import SPINE\n",
    "\n",
    "dataset = ZsRE.ZsREDataset(loc=ZsRE.default_loc)\n",
    "sample = ZsRE.get_processed_kvs(dataset[0], SPINE.requires_input_keys)\n",
    "result = diagnose.diagnosing(sample=sample, model_name_or_path=qwen, method=SPINE.name)\n",
    "\n",
    "print(result)"
   ]
  }
 ],
 "metadata": {
  "kernelspec": {
   "display_name": "Python 3 (ipykernel)",
   "language": "python",
   "name": "python3"
  },
  "language_info": {
   "codemirror_mode": {
    "name": "ipython",
    "version": 3
   },
   "file_extension": ".py",
   "mimetype": "text/x-python",
   "name": "python",
   "nbconvert_exporter": "python",
   "pygments_lexer": "ipython3",
   "version": "3.10.8"
  }
 },
 "nbformat": 4,
 "nbformat_minor": 5
}
