{
 "cells": [
  {
   "cell_type": "code",
   "execution_count": 1,
   "id": "7308f250-674d-4414-8cf3-22eb1934bcd3",
   "metadata": {},
   "outputs": [
    {
     "name": "stdout",
     "output_type": "stream",
     "text": [
      "module 'kv_template' has no attribute 'dataset_info'\n",
      "Loaded dataset with 1209 elements\n",
      "loading model: /root/autodl-fs/chatglm2\n"
     ]
    },
    {
     "name": "stderr",
     "output_type": "stream",
     "text": [
      "INFO:accelerate.utils.modeling:We will use 90% of the memory on device 0 for storing the model, and 10% for the buffer to avoid OOM. You can set `max_memory` in to a higher value to use more memory (at your own risk).\n"
     ]
    },
    {
     "data": {
      "application/json": {
       "ascii": false,
       "bar_format": null,
       "colour": null,
       "elapsed": 0.007200956344604492,
       "initial": 0,
       "n": 0,
       "ncols": null,
       "nrows": null,
       "postfix": null,
       "prefix": "Loading checkpoint shards",
       "rate": null,
       "total": 7,
       "unit": "it",
       "unit_divisor": 1000,
       "unit_scale": false
      },
      "application/vnd.jupyter.widget-view+json": {
       "model_id": "969e966c39a04eb181d3396e28df326a",
       "version_major": 2,
       "version_minor": 0
      },
      "text/plain": [
       "Loading checkpoint shards:   0%|          | 0/7 [00:00<?, ?it/s]"
      ]
     },
     "metadata": {},
     "output_type": "display_data"
    },
    {
     "name": "stdout",
     "output_type": "stream",
     "text": [
      "/root/autodl-fs/chatglm2 model loaded\n",
      "{'output': '', 'image': [], 'table': [{'table_name': 'Hidden states top token', 'table_list': [{'Layer name': 'Layer_0', 'Top tokens': \"['', '}}', 'ysics']\"}, {'Layer name': 'Layer_1', 'Top tokens': \"['增值', '融合发展', 'Govern']\"}, {'Layer name': 'Layer_2', 'Top tokens': \"['增值', '融合发展', 'Govern']\"}, {'Layer name': 'Layer_3', 'Top tokens': \"['增值', '融合发展', '生物医药']\"}, {'Layer name': 'Layer_4', 'Top tokens': \"['增值', '融合发展', '生物医药']\"}, {'Layer name': 'Layer_5', 'Top tokens': \"['增值', '融合发展', '生物医药']\"}, {'Layer name': 'Layer_6', 'Top tokens': \"['增值', '融合发展', '生物医药']\"}, {'Layer name': 'Layer_7', 'Top tokens': \"['增值', '融合发展', '生物医药']\"}, {'Layer name': 'Layer_8', 'Top tokens': \"['增值', '融合发展', '生物医药']\"}, {'Layer name': 'Layer_9', 'Top tokens': \"['增值', '融合发展', '生物医药']\"}, {'Layer name': 'Layer_10', 'Top tokens': \"['增值', '融合发展', '生物医药']\"}, {'Layer name': 'Layer_11', 'Top tokens': \"['增值', '融合发展', '生物医药']\"}, {'Layer name': 'Layer_12', 'Top tokens': \"['增值', '融合发展', '生物医药']\"}, {'Layer name': 'Layer_13', 'Top tokens': \"['增值', '生物医药', '融合发展']\"}, {'Layer name': 'Layer_14', 'Top tokens': \"['增值', '生物医药', '融合发展']\"}, {'Layer name': 'Layer_15', 'Top tokens': \"['增值', '生物医药', '融合发展']\"}, {'Layer name': 'Layer_16', 'Top tokens': \"['增值', '生物医药', '融合发展']\"}, {'Layer name': 'Layer_17', 'Top tokens': \"['增值', '生物医药', '融合发展']\"}, {'Layer name': 'Layer_18', 'Top tokens': \"['增值', '融合发展', '生物医药']\"}, {'Layer name': 'Layer_19', 'Top tokens': \"['增值', '生物医药', '融合发展']\"}, {'Layer name': 'Layer_20', 'Top tokens': \"['增值', '生物医药', '融合发展']\"}, {'Layer name': 'Layer_21', 'Top tokens': \"['增值', '生物医药', '融合发展']\"}, {'Layer name': 'Layer_22', 'Top tokens': \"['增值', '生物医药', '融合发展']\"}, {'Layer name': 'Layer_23', 'Top tokens': \"['增值', '生物医药', '融合发展']\"}, {'Layer name': 'Layer_24', 'Top tokens': \"['增值', '生物医药', '融合发展']\"}, {'Layer name': 'Layer_25', 'Top tokens': \"['增值', '生物医药', '融合发展']\"}, {'Layer name': 'Layer_26', 'Top tokens': \"['增值', '生物医药', '融合发展']\"}, {'Layer name': 'Layer_27', 'Top tokens': \"['生物医药', '增值', '融合发展']\"}, {'Layer name': 'Layer_28', 'Top tokens': \"['temple', 'tle', 'ř']\"}], 'table_des': 'We use the lm head to decode the semantic information in the hidden states layer across the layer.', 'table_res': 'In the forward propagation of the model: \\nThe final token predicted by the model is temple.'}], 'result_des': '', 'origin_data': {'top_tokens': [['', '}}', 'ysics'], ['增值', '融合发展', 'Govern'], ['增值', '融合发展', 'Govern'], ['增值', '融合发展', '生物医药'], ['增值', '融合发展', '生物医药'], ['增值', '融合发展', '生物医药'], ['增值', '融合发展', '生物医药'], ['增值', '融合发展', '生物医药'], ['增值', '融合发展', '生物医药'], ['增值', '融合发展', '生物医药'], ['增值', '融合发展', '生物医药'], ['增值', '融合发展', '生物医药'], ['增值', '融合发展', '生物医药'], ['增值', '生物医药', '融合发展'], ['增值', '生物医药', '融合发展'], ['增值', '生物医药', '融合发展'], ['增值', '生物医药', '融合发展'], ['增值', '生物医药', '融合发展'], ['增值', '融合发展', '生物医药'], ['增值', '生物医药', '融合发展'], ['增值', '生物医药', '融合发展'], ['增值', '生物医药', '融合发展'], ['增值', '生物医药', '融合发展'], ['增值', '生物医药', '融合发展'], ['增值', '生物医药', '融合发展'], ['增值', '生物医药', '融合发展'], ['增值', '生物医药', '融合发展'], ['生物医药', '增值', '融合发展'], ['temple', 'tle', 'ř']]}}\n"
     ]
    }
   ],
   "source": [
    "from diagnose import diagnose\n",
    "from dataset_process import knowns, ZsRE, counterfact\n",
    "from models import llama, gptj, gpt2, qwen, bert, t5, chatglm2, internlm, baichuan\n",
    "from methods import logit_lens\n",
    "\n",
    "dataset = knowns.KnownsDataset(loc=knowns.default_loc)\n",
    "sample = knowns.get_processed_kvs(dataset[3], logit_lens.requires_input_keys)\n",
    "# dataset = ZsRE.ZsREDataset(loc=ZsRE.default_loc)\n",
    "# sample = ZsRE.get_processed_kvs(dataset[0], kn.requires_input_keys)\n",
    "# dataset = counterfact.CounterfactDataset(loc=counterfact.default_loc)\n",
    "# sample = counterfact.get_processed_kvs(dataset[0], logit_lens.requires_input_keys)\n",
    "result = diagnose.diagnosing(sample=sample, model_name_or_path=chatglm2, method=logit_lens.name)\n",
    "\n",
    "print(result)"
   ]
  }
 ],
 "metadata": {
  "kernelspec": {
   "display_name": "Python 3 (ipykernel)",
   "language": "python",
   "name": "python3"
  },
  "language_info": {
   "codemirror_mode": {
    "name": "ipython",
    "version": 3
   },
   "file_extension": ".py",
   "mimetype": "text/x-python",
   "name": "python",
   "nbconvert_exporter": "python",
   "pygments_lexer": "ipython3",
   "version": "3.10.8"
  }
 },
 "nbformat": 4,
 "nbformat_minor": 5
}
