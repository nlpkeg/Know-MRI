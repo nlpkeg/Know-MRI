{
 "cells": [
  {
   "cell_type": "code",
   "execution_count": 1,
   "id": "deb26b57-350c-4cf9-95d4-87cbd8498bb9",
   "metadata": {},
   "outputs": [
    {
     "name": "stdout",
     "output_type": "stream",
     "text": [
      "module 'kv_template' has no attribute 'dataset_info'\n",
      "Loaded dataset with 1301 elements\n",
      "loading model: /root/autodl-fs/chatglm2\n"
     ]
    },
    {
     "data": {
      "application/json": {
       "ascii": false,
       "bar_format": null,
       "colour": null,
       "elapsed": 0.0048944950103759766,
       "initial": 0,
       "n": 0,
       "ncols": null,
       "nrows": null,
       "postfix": null,
       "prefix": "Loading checkpoint shards",
       "rate": null,
       "total": 7,
       "unit": "it",
       "unit_divisor": 1000,
       "unit_scale": false
      },
      "application/vnd.jupyter.widget-view+json": {
       "model_id": "6a706a0c6fef4c988ab87e55b04fe36d",
       "version_major": 2,
       "version_minor": 0
      },
      "text/plain": [
       "Loading checkpoint shards:   0%|          | 0/7 [00:00<?, ?it/s]"
      ]
     },
     "metadata": {},
     "output_type": "display_data"
    },
    {
     "name": "stdout",
     "output_type": "stream",
     "text": [
      "/root/autodl-fs/chatglm2 model loaded\n"
     ]
    },
    {
     "name": "stderr",
     "output_type": "stream",
     "text": [
      "/root/interpret-lm/methods/SPINE/SPINE_main.py:53: UserWarning: To copy construct from a tensor, it is recommended to use sourceTensor.clone().detach() or sourceTensor.clone().detach().requires_grad_(True), rather than torch.tensor(sourceTensor).\n",
      "  batch_x = torch.tensor(embedding).to(dtype)\n"
     ]
    },
    {
     "name": "stdout",
     "output_type": "stream",
     "text": [
      "{'origin_data': {'sample_tokens': ['', '▁Which', '▁family', '▁does', '▁Ep', 'asp', 'id', 'oc', 'eras', '▁belong', '▁to', '?'], 'topk_embeddings': [[[6142, 0.024707958102226257], [7110, 0.02285326085984707], [3575, 0.022274546325206757], [15328, 0.02111687883734703], [15246, 0.0202573724091053]], [[15863, 0.03224288299679756], [16339, 0.03200092911720276], [16241, 0.0307365320622921], [11092, 0.030549440532922745], [6073, 0.030108483508229256]], [[4764, 0.03666109964251518], [11443, 0.03392413258552551], [528, 0.03283083066344261], [14598, 0.032550614327192307], [2208, 0.029722081497311592]], [[4454, 0.031859803944826126], [14653, 0.031045325100421906], [2030, 0.030875137075781822], [7427, 0.029384691268205643], [145, 0.029253270477056503]], [[14718, 0.041694868355989456], [13956, 0.034971483051776886], [15564, 0.0330134816467762], [10814, 0.0314004085958004], [10015, 0.03099023923277855]], [[7775, 0.04290939122438431], [1594, 0.03380904346704483], [12371, 0.033131979405879974], [3508, 0.03204597532749176], [13928, 0.03148166462779045]], [[8987, 0.030252911150455475], [10912, 0.030247237533330917], [226, 0.030013516545295715], [686, 0.028883710503578186], [13950, 0.02863442897796631]], [[4279, 0.04086979106068611], [1411, 0.03944001719355583], [15328, 0.03449612110853195], [5997, 0.030827198177576065], [2399, 0.029981236904859543]], [[16179, 0.0332469679415226], [14280, 0.03187563642859459], [8188, 0.031615760177373886], [6677, 0.031030919402837753], [10222, 0.03031224198639393]], [[11550, 0.03611620143055916], [6915, 0.033314213156700134], [489, 0.031344685703516006], [13148, 0.03086159937083721], [12265, 0.03056173585355282]], [[15983, 0.027380306273698807], [12477, 0.026177164167165756], [10530, 0.02610989287495613], [10806, 0.023684661835432053], [5639, 0.023432116955518723]], [[11438, 0.03636906296014786], [9940, 0.031190238893032074], [12596, 0.02646694891154766], [12976, 0.025264378637075424], [15995, 0.024958165362477303]]]}, 'table': [{'table_name': ' token ', 'table_list': [{'dimension': 6142, 'activation values': 0.024707958102226257, 'The tokens with the highest activation values in this dimension of the vocabulary': ['matrix', '▁computers', 'icious', 'File', '▁Spanish']}, {'dimension': 7110, 'activation values': 0.02285326085984707, 'The tokens with the highest activation values in this dimension of the vocabulary': ['▁Agency', '▁camp', \"'),\", 'press', '▁pick']}, {'dimension': 3575, 'activation values': 0.022274546325206757, 'The tokens with the highest activation values in this dimension of the vocabulary': ['▁normally', '▁Each', '▁Ray', 'lor', '▁commentary']}, {'dimension': 15328, 'activation values': 0.02111687883734703, 'The tokens with the highest activation values in this dimension of the vocabulary': ['▁practice', '▁analytics', '▁vintage', '▁Mu', '▁Bas']}, {'dimension': 15246, 'activation values': 0.0202573724091053, 'The tokens with the highest activation values in this dimension of the vocabulary': [\"'),\", '▁v', '▁Mort', '▁beef', '▁Happ']}], 'table_des': 'Each row represents one of the top-k activation values along with its corresponding dimensional index and the several words from the vocabulary that have the highest activation values in this dimension', 'table_res': ''}, {'table_name': ' token ▁Which', 'table_list': [{'dimension': 15863, 'activation values': 0.03224288299679756, 'The tokens with the highest activation values in this dimension of the vocabulary': ['мен', '▁Lib', '▁web', 'iph', 'aching']}, {'dimension': 16339, 'activation values': 0.03200092911720276, 'The tokens with the highest activation values in this dimension of the vocabulary': ['▁continu', '▁f', 'depth', '▁awful', '▁Chile']}, {'dimension': 16241, 'activation values': 0.0307365320622921, 'The tokens with the highest activation values in this dimension of the vocabulary': ['▁Happy', '▁frag', '▁easy', 'ume', '▁occupied']}, {'dimension': 11092, 'activation values': 0.030549440532922745, 'The tokens with the highest activation values in this dimension of the vocabulary': ['▁strange', 'Char', '▁trade', 'ockey', 'ATH']}, {'dimension': 6073, 'activation values': 0.030108483508229256, 'The tokens with the highest activation values in this dimension of the vocabulary': ['▁variation', 'yer', 'description', '▁clar', '▁ET']}], 'table_des': 'Each row represents one of the top-k activation values along with its corresponding dimensional index and the several words from the vocabulary that have the highest activation values in this dimension', 'table_res': ''}, {'table_name': ' token ▁family', 'table_list': [{'dimension': 4764, 'activation values': 0.03666109964251518, 'The tokens with the highest activation values in this dimension of the vocabulary': ['▁ladies', '▁coup', '▁san', 'ifted', '▁від']}, {'dimension': 11443, 'activation values': 0.03392413258552551, 'The tokens with the highest activation values in this dimension of the vocabulary': ['▁general', '▁Rec', '▁Impro', 'Posted', 'OB']}, {'dimension': 528, 'activation values': 0.03283083066344261, 'The tokens with the highest activation values in this dimension of the vocabulary': ['▁multiple', 'zeta', '▁segments', '▁interpret', '▁solving']}, {'dimension': 14598, 'activation values': 0.032550614327192307, 'The tokens with the highest activation values in this dimension of the vocabulary': ['▁gave', 'Box', '▁underm', '▁neuro', 'folio']}, {'dimension': 2208, 'activation values': 0.029722081497311592, 'The tokens with the highest activation values in this dimension of the vocabulary': ['▁ought', '▁В', '▁Ram', 'arn', '▁Democr']}], 'table_des': 'Each row represents one of the top-k activation values along with its corresponding dimensional index and the several words from the vocabulary that have the highest activation values in this dimension', 'table_res': ''}, {'table_name': ' token ▁does', 'table_list': [{'dimension': 4454, 'activation values': 0.031859803944826126, 'The tokens with the highest activation values in this dimension of the vocabulary': ['▁domain', '▁loc', 'rapeutic', '▁playing', 'UR']}, {'dimension': 14653, 'activation values': 0.031045325100421906, 'The tokens with the highest activation values in this dimension of the vocabulary': ['▁tele', '▁imagine', 'bs', '▁obligations', '▁Success']}, {'dimension': 2030, 'activation values': 0.030875137075781822, 'The tokens with the highest activation values in this dimension of the vocabulary': ['▁Center', '▁overseas', '▁leaf', '▁consum', '▁activ']}, {'dimension': 7427, 'activation values': 0.029384691268205643, 'The tokens with the highest activation values in this dimension of the vocabulary': ['ouble', 'rapeutic', 'Get', '▁Santa', 'render']}, {'dimension': 145, 'activation values': 0.029253270477056503, 'The tokens with the highest activation values in this dimension of the vocabulary': ['▁earnings', '▁announced', '▁Canadian', '▁Diego', '▁Brooklyn']}], 'table_des': 'Each row represents one of the top-k activation values along with its corresponding dimensional index and the several words from the vocabulary that have the highest activation values in this dimension', 'table_res': ''}, {'table_name': ' token ▁Ep', 'table_list': [{'dimension': 14718, 'activation values': 0.041694868355989456, 'The tokens with the highest activation values in this dimension of the vocabulary': ['oes', '▁sensor', 'nex', '▁belief', '▁soph']}, {'dimension': 13956, 'activation values': 0.034971483051776886, 'The tokens with the highest activation values in this dimension of the vocabulary': ['▁bass', 'cel', 'deed', '▁qui', '▁interpret']}, {'dimension': 15564, 'activation values': 0.0330134816467762, 'The tokens with the highest activation values in this dimension of the vocabulary': ['STR', '<0x54>', '▁Born', '▁algorithm', 'ero']}, {'dimension': 10814, 'activation values': 0.0314004085958004, 'The tokens with the highest activation values in this dimension of the vocabulary': ['▁EV', 'usion', '▁Anyway', '▁fatal', '▁formal']}, {'dimension': 10015, 'activation values': 0.03099023923277855, 'The tokens with the highest activation values in this dimension of the vocabulary': ['rection', 'ital', '▁Cher', '▁colors', '▁Classic']}], 'table_des': 'Each row represents one of the top-k activation values along with its corresponding dimensional index and the several words from the vocabulary that have the highest activation values in this dimension', 'table_res': ''}, {'table_name': ' token asp', 'table_list': [{'dimension': 7775, 'activation values': 0.04290939122438431, 'The tokens with the highest activation values in this dimension of the vocabulary': ['bu', '▁difference', '▁California', '▁column', '▁midst']}, {'dimension': 1594, 'activation values': 0.03380904346704483, 'The tokens with the highest activation values in this dimension of the vocabulary': ['▁loved', '▁brilliant', '▁hazard', '▁manip', '▁satisf']}, {'dimension': 12371, 'activation values': 0.033131979405879974, 'The tokens with the highest activation values in this dimension of the vocabulary': ['▁Ak', '▁Indians', 'outer', 'App', '▁earned']}, {'dimension': 3508, 'activation values': 0.03204597532749176, 'The tokens with the highest activation values in this dimension of the vocabulary': ['atures', '▁Wash', 'roke', '▁preparing', '▁don']}, {'dimension': 13928, 'activation values': 0.03148166462779045, 'The tokens with the highest activation values in this dimension of the vocabulary': ['▁Children', 'yes', '▁eight', 'in', '▁several']}], 'table_des': 'Each row represents one of the top-k activation values along with its corresponding dimensional index and the several words from the vocabulary that have the highest activation values in this dimension', 'table_res': ''}, {'table_name': ' token id', 'table_list': [{'dimension': 8987, 'activation values': 0.030252911150455475, 'The tokens with the highest activation values in this dimension of the vocabulary': ['▁miss', '▁charact', '’.', '▁witness', 'case']}, {'dimension': 10912, 'activation values': 0.030247237533330917, 'The tokens with the highest activation values in this dimension of the vocabulary': ['▁mor', 'section', '▁transp', 'ity', '▁Alan']}, {'dimension': 226, 'activation values': 0.030013516545295715, 'The tokens with the highest activation values in this dimension of the vocabulary': ['▁flexibility', '▁va', '▁essay', '▁ongoing', '▁Clay']}, {'dimension': 686, 'activation values': 0.028883710503578186, 'The tokens with the highest activation values in this dimension of the vocabulary': ['▁args', '▁Ge', '▁happening', '▁multip', '▁describ']}, {'dimension': 13950, 'activation values': 0.02863442897796631, 'The tokens with the highest activation values in this dimension of the vocabulary': ['orth', '▁conversation', '▁sitting', 'edu', '▁tested']}], 'table_des': 'Each row represents one of the top-k activation values along with its corresponding dimensional index and the several words from the vocabulary that have the highest activation values in this dimension', 'table_res': ''}, {'table_name': ' token oc', 'table_list': [{'dimension': 4279, 'activation values': 0.04086979106068611, 'The tokens with the highest activation values in this dimension of the vocabulary': ['▁attention', 'uro', '▁Grey', 'zy', 'GET']}, {'dimension': 1411, 'activation values': 0.03944001719355583, 'The tokens with the highest activation values in this dimension of the vocabulary': ['▁Daniel', '▁Paul', 'rot', '▁successfully', '▁Anc']}, {'dimension': 15328, 'activation values': 0.03449612110853195, 'The tokens with the highest activation values in this dimension of the vocabulary': ['▁practice', '▁analytics', '▁vintage', '▁Mu', '▁Bas']}, {'dimension': 5997, 'activation values': 0.030827198177576065, 'The tokens with the highest activation values in this dimension of the vocabulary': ['▁infect', '▁Google', '▁enc', '▁sched', '▁gonna']}, {'dimension': 2399, 'activation values': 0.029981236904859543, 'The tokens with the highest activation values in this dimension of the vocabulary': ['▁fresh', '▁sun', '<0x9C>', '){', '▁approximately']}], 'table_des': 'Each row represents one of the top-k activation values along with its corresponding dimensional index and the several words from the vocabulary that have the highest activation values in this dimension', 'table_res': ''}, {'table_name': ' token eras', 'table_list': [{'dimension': 16179, 'activation values': 0.0332469679415226, 'The tokens with the highest activation values in this dimension of the vocabulary': ['▁Studio', '▁copyright', '▁ne', '▁filed', '▁pan']}, {'dimension': 14280, 'activation values': 0.03187563642859459, 'The tokens with the highest activation values in this dimension of the vocabulary': ['Cross', 'antic', '▁directions', '▁carb', '▁Wonder']}, {'dimension': 8188, 'activation values': 0.031615760177373886, 'The tokens with the highest activation values in this dimension of the vocabulary': ['irms', '▁lic', '▁steep', '▁clouds', 'allery']}, {'dimension': 6677, 'activation values': 0.031030919402837753, 'The tokens with the highest activation values in this dimension of the vocabulary': ['Exp', 'tr', '▁clouds', 'oles', 'ou']}, {'dimension': 10222, 'activation values': 0.03031224198639393, 'The tokens with the highest activation values in this dimension of the vocabulary': ['▁preparing', '▁Look', '.....', 'abetes', '▁wa']}], 'table_des': 'Each row represents one of the top-k activation values along with its corresponding dimensional index and the several words from the vocabulary that have the highest activation values in this dimension', 'table_res': ''}, {'table_name': ' token ▁belong', 'table_list': [{'dimension': 11550, 'activation values': 0.03611620143055916, 'The tokens with the highest activation values in this dimension of the vocabulary': ['rection', '▁У', 'enny', 'itation', '▁Ms']}, {'dimension': 6915, 'activation values': 0.033314213156700134, 'The tokens with the highest activation values in this dimension of the vocabulary': ['▁settings', '▁wisdom', '▁broad', '▁hall', 'by']}, {'dimension': 489, 'activation values': 0.031344685703516006, 'The tokens with the highest activation values in this dimension of the vocabulary': ['▁loop', '▁serv', 'game', '▁issue', '▁Lat']}, {'dimension': 13148, 'activation values': 0.03086159937083721, 'The tokens with the highest activation values in this dimension of the vocabulary': ['▁operate', '▁Host', 'thes', '▁suff', 'car']}, {'dimension': 12265, 'activation values': 0.03056173585355282, 'The tokens with the highest activation values in this dimension of the vocabulary': ['<0x28>', '▁refuse', 'pha', '▁convin', '▁filed']}], 'table_des': 'Each row represents one of the top-k activation values along with its corresponding dimensional index and the several words from the vocabulary that have the highest activation values in this dimension', 'table_res': ''}, {'table_name': ' token ▁to', 'table_list': [{'dimension': 15983, 'activation values': 0.027380306273698807, 'The tokens with the highest activation values in this dimension of the vocabulary': ['akespe', '▁desired', '▁Journal', '▁Image', 'pha']}, {'dimension': 12477, 'activation values': 0.026177164167165756, 'The tokens with the highest activation values in this dimension of the vocabulary': ['▁refuge', 'ategor', '▁Sup', '▁sharp', 'rac']}, {'dimension': 10530, 'activation values': 0.02610989287495613, 'The tokens with the highest activation values in this dimension of the vocabulary': ['▁Murray', 'utter', '▁followers', '▁Updated', '▁emb']}, {'dimension': 10806, 'activation values': 0.023684661835432053, 'The tokens with the highest activation values in this dimension of the vocabulary': ['▁convinced', 'inder', '▁exploring', '▁ranked', '▁Halloween']}, {'dimension': 5639, 'activation values': 0.023432116955518723, 'The tokens with the highest activation values in this dimension of the vocabulary': ['▁Produ', '▁rescue', '▁Standard', '▁accomp', 'mber']}], 'table_des': 'Each row represents one of the top-k activation values along with its corresponding dimensional index and the several words from the vocabulary that have the highest activation values in this dimension', 'table_res': ''}, {'table_name': ' token ?', 'table_list': [{'dimension': 11438, 'activation values': 0.03636906296014786, 'The tokens with the highest activation values in this dimension of the vocabulary': ['▁prospective', '▁services', '▁Corpor', '▁decay', 'ilding']}, {'dimension': 9940, 'activation values': 0.031190238893032074, 'The tokens with the highest activation values in this dimension of the vocabulary': ['▁founder', '▁hosted', 'NE', '▁Pret', '();']}, {'dimension': 12596, 'activation values': 0.02646694891154766, 'The tokens with the highest activation values in this dimension of the vocabulary': ['▁Forum', 'iled', '▁Prot', '▁not', 'cp']}, {'dimension': 12976, 'activation values': 0.025264378637075424, 'The tokens with the highest activation values in this dimension of the vocabulary': ['Port', '▁decay', '▁medication', 'odes', 'ро']}, {'dimension': 15995, 'activation values': 0.024958165362477303, 'The tokens with the highest activation values in this dimension of the vocabulary': ['▁Overall', '▁enorm', '▁consequence', 'mod', 'acle']}], 'table_des': 'Each row represents one of the top-k activation values along with its corresponding dimensional index and the several words from the vocabulary that have the highest activation values in this dimension', 'table_res': ''}], 'result_des': ''}\n"
     ]
    }
   ],
   "source": [
    "from diagnose import diagnose\n",
    "from dataset_process import ZsRE\n",
    "from models import llama, gptj, gpt2, bert, t5, qwen, chatglm2\n",
    "from methods import SPINE\n",
    "\n",
    "dataset = ZsRE.ZsREDataset(loc=ZsRE.default_loc)\n",
    "sample = ZsRE.get_processed_kvs(dataset[0], SPINE.requires_input_keys)\n",
    "result = diagnose.diagnosing(sample=sample, model_name_or_path=chatglm2, method=SPINE.name)\n",
    "\n",
    "print(result)"
   ]
  }
 ],
 "metadata": {
  "kernelspec": {
   "display_name": "Python 3 (ipykernel)",
   "language": "python",
   "name": "python3"
  },
  "language_info": {
   "codemirror_mode": {
    "name": "ipython",
    "version": 3
   },
   "file_extension": ".py",
   "mimetype": "text/x-python",
   "name": "python",
   "nbconvert_exporter": "python",
   "pygments_lexer": "ipython3",
   "version": "3.10.8"
  }
 },
 "nbformat": 4,
 "nbformat_minor": 5
}
