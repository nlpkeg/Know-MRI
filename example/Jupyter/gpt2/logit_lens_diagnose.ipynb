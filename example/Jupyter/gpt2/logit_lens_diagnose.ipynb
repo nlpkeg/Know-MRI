{
 "cells": [
  {
   "cell_type": "code",
   "execution_count": 1,
   "id": "7308f250-674d-4414-8cf3-22eb1934bcd3",
   "metadata": {},
   "outputs": [
    {
     "name": "stdout",
     "output_type": "stream",
     "text": [
      "module 'kv_template' has no attribute 'dataset_info'\n",
      "Loaded dataset with 1209 elements\n",
      "loading model: /root/autodl-fs/gpt2-xl\n"
     ]
    },
    {
     "name": "stderr",
     "output_type": "stream",
     "text": [
      "INFO:accelerate.utils.modeling:We will use 90% of the memory on device 0 for storing the model, and 10% for the buffer to avoid OOM. You can set `max_memory` in to a higher value to use more memory (at your own risk).\n"
     ]
    },
    {
     "name": "stdout",
     "output_type": "stream",
     "text": [
      "/root/autodl-fs/gpt2-xl model loaded\n",
      "{'output': '', 'image': [], 'table': [{'table_name': 'Hidden states top token', 'table_list': [{'Layer name': 'Layer_0', 'Top tokens': \"[' on', ' in', ' at']\"}, {'Layer name': 'Layer_1', 'Top tokens': \"[' top', ' Sunday', ' Garland']\"}, {'Layer name': 'Layer_2', 'Top tokens': \"[' top', ' Monday', ' tour']\"}, {'Layer name': 'Layer_3', 'Top tokens': \"[' Garland', ' Twitter', ' Monday']\"}, {'Layer name': 'Layer_4', 'Top tokens': \"[' Twitter', ' Garland', ' Monday']\"}, {'Layer name': 'Layer_5', 'Top tokens': \"[' Garland', ' Twitter', ' Sunday']\"}, {'Layer name': 'Layer_6', 'Top tokens': \"[' Twitter', ' Monday', ' Sunday']\"}, {'Layer name': 'Layer_7', 'Top tokens': \"[' Twitter', ' Sunday', ' Monday']\"}, {'Layer name': 'Layer_8', 'Top tokens': \"[' Sunday', ' April', ' Monday']\"}, {'Layer name': 'Layer_9', 'Top tokens': \"[' Sunday', ' April', ' Monday']\"}, {'Layer name': 'Layer_10', 'Top tokens': \"[' Sunday', ' April', ' Monday']\"}, {'Layer name': 'Layer_11', 'Top tokens': \"[' Sunday', ' April', ' Monday']\"}, {'Layer name': 'Layer_12', 'Top tokens': \"[' April', ' Sunday', ' Monday']\"}, {'Layer name': 'Layer_13', 'Top tokens': \"[' April', ' Sunday', ' Saturday']\"}, {'Layer name': 'Layer_14', 'Top tokens': \"[' April', ' Sunday', ' Thursday']\"}, {'Layer name': 'Layer_15', 'Top tokens': \"[' Sunday', ' April', ' Saturday']\"}, {'Layer name': 'Layer_16', 'Top tokens': \"[' Sunday', ' April', ' Thursday']\"}, {'Layer name': 'Layer_17', 'Top tokens': \"[' Sunday', ' April', ' Thursday']\"}, {'Layer name': 'Layer_18', 'Top tokens': \"[' Sunday', ' April', ' Thursday']\"}, {'Layer name': 'Layer_19', 'Top tokens': \"[' Sunday', ' April', ' Thursday']\"}, {'Layer name': 'Layer_20', 'Top tokens': \"[' Sunday', ' Thursday', ' April']\"}, {'Layer name': 'Layer_21', 'Top tokens': \"[' Sunday', ' Thursday', ' Friday']\"}, {'Layer name': 'Layer_22', 'Top tokens': \"[' Thursday', ' Sunday', ' Friday']\"}, {'Layer name': 'Layer_23', 'Top tokens': \"[' Thursday', ' April', ' Sunday']\"}, {'Layer name': 'Layer_24', 'Top tokens': \"[' Thursday', ' Sunday', ' April']\"}, {'Layer name': 'Layer_25', 'Top tokens': \"[' April', ' Thursday', ' Sunday']\"}, {'Layer name': 'Layer_26', 'Top tokens': \"[' Thursday', ' Sunday', ' HBO']\"}, {'Layer name': 'Layer_27', 'Top tokens': \"[' HBO', ' Thursday', ' Sunday']\"}, {'Layer name': 'Layer_28', 'Top tokens': \"[' Thursday', ' Sunday', ' Friday']\"}, {'Layer name': 'Layer_29', 'Top tokens': \"[' Thursday', ' Sunday', ' HBO']\"}, {'Layer name': 'Layer_30', 'Top tokens': \"[' Thursday', ' HBO', ' Sunday']\"}, {'Layer name': 'Layer_31', 'Top tokens': \"[' HBO', ' NBC', ' television']\"}, {'Layer name': 'Layer_32', 'Top tokens': \"[' HBO', ' NBC', ' CBS']\"}, {'Layer name': 'Layer_33', 'Top tokens': \"[' HBO', ' CBS', ' Thursday']\"}, {'Layer name': 'Layer_34', 'Top tokens': \"[' CBS', ' HBO', ' NBC']\"}, {'Layer name': 'Layer_35', 'Top tokens': \"[' CBS', ' NBC', ' HBO']\"}, {'Layer name': 'Layer_36', 'Top tokens': \"[' CBS', ' NBC', ' HBO']\"}, {'Layer name': 'Layer_37', 'Top tokens': \"[' CBS', ' NBC', ' ABC']\"}, {'Layer name': 'Layer_38', 'Top tokens': \"[' CBS', ' NBC', ' Comedy']\"}, {'Layer name': 'Layer_39', 'Top tokens': \"[' CBS', ' Tuesday', ' NBC']\"}, {'Layer name': 'Layer_40', 'Top tokens': \"[' CBS', ' January', ' September']\"}, {'Layer name': 'Layer_41', 'Top tokens': \"[' CBS', ' January', ' September']\"}, {'Layer name': 'Layer_42', 'Top tokens': \"[' CBS', ' January', ' September']\"}, {'Layer name': 'Layer_43', 'Top tokens': '[\\' CBS\\', \\'\"\\', \\'!\\']'}, {'Layer name': 'Layer_44', 'Top tokens': '[\\' CBS\\', \\'\"\\', \\'!\\']'}, {'Layer name': 'Layer_45', 'Top tokens': \"[' CBS', ' September', '!']\"}, {'Layer name': 'Layer_46', 'Top tokens': \"[' CBS', ' September', ' Monday']\"}, {'Layer name': 'Layer_47', 'Top tokens': \"[' CBS', ' September', ' Monday']\"}, {'Layer name': 'Layer_48', 'Top tokens': \"[' CBS', ' September', ' Sept']\"}], 'table_des': 'We use the lm head to decode the semantic information in the hidden states layer across the layer.', 'table_res': 'In the forward propagation of the model: \\nThe final token predicted by the model is  CBS.'}], 'result_des': '', 'origin_data': {'top_tokens': [[' on', ' in', ' at'], [' top', ' Sunday', ' Garland'], [' top', ' Monday', ' tour'], [' Garland', ' Twitter', ' Monday'], [' Twitter', ' Garland', ' Monday'], [' Garland', ' Twitter', ' Sunday'], [' Twitter', ' Monday', ' Sunday'], [' Twitter', ' Sunday', ' Monday'], [' Sunday', ' April', ' Monday'], [' Sunday', ' April', ' Monday'], [' Sunday', ' April', ' Monday'], [' Sunday', ' April', ' Monday'], [' April', ' Sunday', ' Monday'], [' April', ' Sunday', ' Saturday'], [' April', ' Sunday', ' Thursday'], [' Sunday', ' April', ' Saturday'], [' Sunday', ' April', ' Thursday'], [' Sunday', ' April', ' Thursday'], [' Sunday', ' April', ' Thursday'], [' Sunday', ' April', ' Thursday'], [' Sunday', ' Thursday', ' April'], [' Sunday', ' Thursday', ' Friday'], [' Thursday', ' Sunday', ' Friday'], [' Thursday', ' April', ' Sunday'], [' Thursday', ' Sunday', ' April'], [' April', ' Thursday', ' Sunday'], [' Thursday', ' Sunday', ' HBO'], [' HBO', ' Thursday', ' Sunday'], [' Thursday', ' Sunday', ' Friday'], [' Thursday', ' Sunday', ' HBO'], [' Thursday', ' HBO', ' Sunday'], [' HBO', ' NBC', ' television'], [' HBO', ' NBC', ' CBS'], [' HBO', ' CBS', ' Thursday'], [' CBS', ' HBO', ' NBC'], [' CBS', ' NBC', ' HBO'], [' CBS', ' NBC', ' HBO'], [' CBS', ' NBC', ' ABC'], [' CBS', ' NBC', ' Comedy'], [' CBS', ' Tuesday', ' NBC'], [' CBS', ' January', ' September'], [' CBS', ' January', ' September'], [' CBS', ' January', ' September'], [' CBS', '\"', '!'], [' CBS', '\"', '!'], [' CBS', ' September', '!'], [' CBS', ' September', ' Monday'], [' CBS', ' September', ' Monday'], [' CBS', ' September', ' Sept']]}}\n"
     ]
    }
   ],
   "source": [
    "from diagnose import diagnose\n",
    "from dataset_process import knowns, ZsRE, counterfact\n",
    "from models import llama, gptj, gpt2,qwen, bert, t5, chatglm2, internlm, baichuan\n",
    "from methods import logit_lens\n",
    "\n",
    "dataset = knowns.KnownsDataset(loc=knowns.default_loc)\n",
    "sample = knowns.get_processed_kvs(dataset[3], logit_lens.requires_input_keys)\n",
    "# dataset = ZsRE.ZsREDataset(loc=ZsRE.default_loc)\n",
    "# sample = ZsRE.get_processed_kvs(dataset[0], kn.requires_input_keys)\n",
    "# dataset = counterfact.CounterfactDataset(loc=counterfact.default_loc)\n",
    "# sample = counterfact.get_processed_kvs(dataset[0], logit_lens.requires_input_keys)\n",
    "result = diagnose.diagnosing(sample=sample, model_name_or_path=gpt2, method=logit_lens.name)\n",
    "\n",
    "print(result)"
   ]
  }
 ],
 "metadata": {
  "kernelspec": {
   "display_name": "Python 3 (ipykernel)",
   "language": "python",
   "name": "python3"
  },
  "language_info": {
   "codemirror_mode": {
    "name": "ipython",
    "version": 3
   },
   "file_extension": ".py",
   "mimetype": "text/x-python",
   "name": "python",
   "nbconvert_exporter": "python",
   "pygments_lexer": "ipython3",
   "version": "3.10.8"
  }
 },
 "nbformat": 4,
 "nbformat_minor": 5
}
