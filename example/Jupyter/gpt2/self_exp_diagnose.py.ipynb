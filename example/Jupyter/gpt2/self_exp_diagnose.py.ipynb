{
 "cells": [
  {
   "cell_type": "code",
   "execution_count": 1,
   "id": "44dabbc4-83ab-4165-b16d-1ebbf2b8eb5c",
   "metadata": {},
   "outputs": [
    {
     "name": "stdout",
     "output_type": "stream",
     "text": [
      "module 'kv_template' has no attribute 'dataset_info'\n",
      "Loaded dataset with 1209 elements\n",
      "loading model: /root/autodl-fs/gpt2-xl\n"
     ]
    },
    {
     "name": "stderr",
     "output_type": "stream",
     "text": [
      "INFO:accelerate.utils.modeling:We will use 90% of the memory on device 0 for storing the model, and 10% for the buffer to avoid OOM. You can set `max_memory` in to a higher value to use more memory (at your own risk).\n",
      "Xformers is not installed correctly. If you want to use memory_efficient_attention to accelerate training use the following command to install Xformers\n",
      "pip install xformers.\n",
      "Setting `pad_token_id` to `eos_token_id`:50256 for open-end generation.\n"
     ]
    },
    {
     "name": "stdout",
     "output_type": "stream",
     "text": [
      "/root/autodl-fs/gpt2-xl model loaded\n",
      "{'origin_data': [\"Assess the correctness of the statement: 'Vinson Massif is located in the continent of Antarctica' Answer True if correct, False otherwise. Then, provide the most critical 4 words or phrases that influence your assessment.\"], 'image': '', 'table': [{'table_name': 'Self-explanation of LLM', 'table_list': [{'Input prompt': \"Assess the correctness of the statement: 'Vinson Massif is located in the continent of Antarctica' Answer True if correct, False otherwise. Then, provide the most critical 4 words or phrases that influence your assessment.\", 'answer': '\\n\\nThe following questions are designed to help you assess the accuracy of a statement and determine whether it is true or false. The statements were chosen from a list of over 1,000 statements provided by the National Science Foundation (NSF).\\n\\n1. What is the name of the country where Vinson Massif is located? 2. Which of the following countries has the largest land area? 3. Which of the following countries has the highest average annual temperature? 4. Which of the following countries has the lowest average annual'}], 'tabel_des': \"the most critical top_k words or phrases that influences LLM's assessment\", 'tabel_res': ''}], 'result_des': ''}\n"
     ]
    }
   ],
   "source": [
    "from diagnose import diagnose\n",
    "from dataset_process import knowns, ZsRE, counterfact, pararel, PEP3k, TwentyQ\n",
    "from models import llama, gptj, gpt2, qwen, t5, chatglm2, internlm, baichuan\n",
    "from methods import Selfexplanations\n",
    "\n",
    "dataset = knowns.KnownsDataset(loc=knowns.default_loc)\n",
    "sample = knowns.get_processed_kvs(dataset[0], Selfexplanations.requires_input_keys)\n",
    "\n",
    "result = diagnose.diagnosing(sample=sample, model_name_or_path=gpt2, method=Selfexplanations.name)\n",
    "print(result)"
   ]
  }
 ],
 "metadata": {
  "kernelspec": {
   "display_name": "Python 3 (ipykernel)",
   "language": "python",
   "name": "python3"
  },
  "language_info": {
   "codemirror_mode": {
    "name": "ipython",
    "version": 3
   },
   "file_extension": ".py",
   "mimetype": "text/x-python",
   "name": "python",
   "nbconvert_exporter": "python",
   "pygments_lexer": "ipython3",
   "version": "3.10.8"
  }
 },
 "nbformat": 4,
 "nbformat_minor": 5
}
