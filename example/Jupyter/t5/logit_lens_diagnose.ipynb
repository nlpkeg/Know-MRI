{
 "cells": [
  {
   "cell_type": "code",
   "execution_count": 1,
   "id": "7308f250-674d-4414-8cf3-22eb1934bcd3",
   "metadata": {},
   "outputs": [
    {
     "name": "stdout",
     "output_type": "stream",
     "text": [
      "module 'kv_template' has no attribute 'dataset_info'\n",
      "Loaded dataset with 1209 elements\n",
      "loading model: /root/autodl-fs/t5\n"
     ]
    },
    {
     "name": "stderr",
     "output_type": "stream",
     "text": [
      "INFO:accelerate.utils.modeling:We will use 90% of the memory on device 0 for storing the model, and 10% for the buffer to avoid OOM. You can set `max_memory` in to a higher value to use more memory (at your own risk).\n"
     ]
    },
    {
     "name": "stdout",
     "output_type": "stream",
     "text": [
      "/root/autodl-fs/t5 model loaded\n",
      "{'output': '', 'image': [], 'table': [{'table_name': 'Hidden states top token', 'table_list': [{'Layer name': 'Layer_0', 'Top tokens': \"['fara', 'quotidien', 'gal']\"}, {'Layer name': 'Layer_1', 'Top tokens': \"['<extra_id_0>', 'placut', 'fisier']\"}, {'Layer name': 'Layer_2', 'Top tokens': \"['<extra_id_0>', '</s>', '<pad>']\"}, {'Layer name': 'Layer_3', 'Top tokens': \"['<extra_id_0>', '</s>', '<pad>']\"}, {'Layer name': 'Layer_4', 'Top tokens': \"['<extra_id_0>', '</s>', '<pad>']\"}, {'Layer name': 'Layer_5', 'Top tokens': \"['<extra_id_0>', '</s>', '<pad>']\"}, {'Layer name': 'Layer_6', 'Top tokens': \"['<extra_id_0>', '</s>', '<pad>']\"}, {'Layer name': 'Layer_7', 'Top tokens': \"['supprimer', '</s>', '<pad>']\"}, {'Layer name': 'Layer_8', 'Top tokens': \"['supprimer', '</s>', '<pad>']\"}, {'Layer name': 'Layer_9', 'Top tokens': \"['supprimer', '</s>', '<pad>']\"}, {'Layer name': 'Layer_10', 'Top tokens': \"['supprimer', '</s>', '<pad>']\"}, {'Layer name': 'Layer_11', 'Top tokens': \"['supprimer', '</s>', '<pad>']\"}, {'Layer name': 'Layer_12', 'Top tokens': \"['supprimer', '</s>', '<pad>']\"}, {'Layer name': 'Layer_13', 'Top tokens': \"['supprimer', '</s>', '<pad>']\"}, {'Layer name': 'Layer_14', 'Top tokens': \"['supprimer', '</s>', '<pad>']\"}, {'Layer name': 'Layer_15', 'Top tokens': \"['', 'supprimer', '<pad>']\"}, {'Layer name': 'Layer_16', 'Top tokens': \"['', '</s>', '<pad>']\"}, {'Layer name': 'Layer_17', 'Top tokens': \"['', '</s>', '<pad>']\"}, {'Layer name': 'Layer_18', 'Top tokens': \"['', '</s>', '<pad>']\"}, {'Layer name': 'Layer_19', 'Top tokens': \"['', '</s>', '<pad>']\"}, {'Layer name': 'Layer_20', 'Top tokens': \"['', '</s>', '<pad>']\"}, {'Layer name': 'Layer_21', 'Top tokens': \"['', '</s>', '<pad>']\"}, {'Layer name': 'Layer_22', 'Top tokens': \"['', '</s>', '<pad>']\"}, {'Layer name': 'Layer_23', 'Top tokens': \"['', '</s>', '<pad>']\"}, {'Layer name': 'Layer_24', 'Top tokens': \"['September', 'CBS', 'Monday']\"}], 'table_des': 'We use the lm head to decode the semantic information in the hidden states layer across the layer.', 'table_res': 'In the forward propagation of the model: \\nThe final token predicted by the model is September.'}], 'result_des': '', 'origin_data': {'top_tokens': [['fara', 'quotidien', 'gal'], ['<extra_id_0>', 'placut', 'fisier'], ['<extra_id_0>', '</s>', '<pad>'], ['<extra_id_0>', '</s>', '<pad>'], ['<extra_id_0>', '</s>', '<pad>'], ['<extra_id_0>', '</s>', '<pad>'], ['<extra_id_0>', '</s>', '<pad>'], ['supprimer', '</s>', '<pad>'], ['supprimer', '</s>', '<pad>'], ['supprimer', '</s>', '<pad>'], ['supprimer', '</s>', '<pad>'], ['supprimer', '</s>', '<pad>'], ['supprimer', '</s>', '<pad>'], ['supprimer', '</s>', '<pad>'], ['supprimer', '</s>', '<pad>'], ['', 'supprimer', '<pad>'], ['', '</s>', '<pad>'], ['', '</s>', '<pad>'], ['', '</s>', '<pad>'], ['', '</s>', '<pad>'], ['', '</s>', '<pad>'], ['', '</s>', '<pad>'], ['', '</s>', '<pad>'], ['', '</s>', '<pad>'], ['September', 'CBS', 'Monday']]}}\n"
     ]
    }
   ],
   "source": [
    "from diagnose import diagnose\n",
    "from dataset_process import knowns, ZsRE, counterfact\n",
    "from models import llama, gptj, gpt2, qwen, bert, t5, chatglm2, internlm, baichuan\n",
    "from methods import logit_lens\n",
    "\n",
    "dataset = knowns.KnownsDataset(loc=knowns.default_loc)\n",
    "sample = knowns.get_processed_kvs(dataset[3], logit_lens.requires_input_keys)\n",
    "# dataset = ZsRE.ZsREDataset(loc=ZsRE.default_loc)\n",
    "# sample = ZsRE.get_processed_kvs(dataset[0], kn.requires_input_keys)\n",
    "# dataset = counterfact.CounterfactDataset(loc=counterfact.default_loc)\n",
    "# sample = counterfact.get_processed_kvs(dataset[0], logit_lens.requires_input_keys)\n",
    "result = diagnose.diagnosing(sample=sample, model_name_or_path=t5, method=logit_lens.name)\n",
    "\n",
    "print(result)"
   ]
  }
 ],
 "metadata": {
  "kernelspec": {
   "display_name": "Python 3 (ipykernel)",
   "language": "python",
   "name": "python3"
  },
  "language_info": {
   "codemirror_mode": {
    "name": "ipython",
    "version": 3
   },
   "file_extension": ".py",
   "mimetype": "text/x-python",
   "name": "python",
   "nbconvert_exporter": "python",
   "pygments_lexer": "ipython3",
   "version": "3.10.8"
  }
 },
 "nbformat": 4,
 "nbformat_minor": 5
}
